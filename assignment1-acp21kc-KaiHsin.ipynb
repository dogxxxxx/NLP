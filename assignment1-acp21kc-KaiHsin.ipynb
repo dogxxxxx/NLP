{
 "cells": [
  {
   "cell_type": "markdown",
   "metadata": {},
   "source": [
    "# [COM6513] Assignment 1: Sentiment Analysis with Logistic Regression\n",
    "\n",
    "### Instructor: Nikos Aletras\n",
    "\n",
    "\n",
    "The goal of this assignment is to develop and test a **text classification** system for **sentiment analysis**, in particular to predict the sentiment of movie reviews, i.e. positive or negative (binary classification).\n",
    "\n",
    "\n",
    "\n",
    "For that purpose, you will implement:\n",
    "\n",
    "\n",
    "- Text processing methods for extracting Bag-Of-Word features, using \n",
    "    - n-grams (BOW), i.e. unigrams, bigrams and trigrams to obtain vector representations of documents where n=1,2,3 respectively. Two vector weighting schemes should be tested: (1) raw frequencies (**1 mark**); (2) tf.idf (**1 mark**). \n",
    "    - character n-grams (BOCN). A character n-gram is a contiguous sequence of characters given a word, e.g. for n=2, 'coffee' is split into {'co', 'of', 'ff', 'fe', 'ee'}. Two vector weighting schemes should be tested: (1) raw frequencies (**1 mark**); (2) tf.idf (**1 mark**). **Tip: Note the large vocabulary size!** \n",
    "    - a combination of the two vector spaces (n-grams and character n-grams) choosing your best performing wighting respectively (i.e. raw or tfidf). (**1 mark**) **Tip: you should merge the two representations**\n",
    "\n",
    "\n",
    "\n",
    "- Binary Logistic Regression (LR) classifiers that will be able to accurately classify movie reviews trained with: \n",
    "    - (1) BOW-count (raw frequencies) \n",
    "    - (2) BOW-tfidf (tf.idf weighted)\n",
    "    - (3) BOCN-count\n",
    "    - (4) BOCN-tfidf\n",
    "    - (5) BOW+BOCN (best performing weighting; raw or tfidf)\n",
    "\n",
    "\n",
    "\n",
    "- The Stochastic Gradient Descent (SGD) algorithm to estimate the parameters of your Logistic Regression models. Your SGD algorithm should:\n",
    "    - Minimise the Binary Cross-entropy loss function (**1 mark**)\n",
    "    - Use L2 regularisation (**1 mark**)\n",
    "    - Perform multiple passes (epochs) over the training data (**1 mark**)\n",
    "    - Randomise the order of training data after each pass (**1 mark**)\n",
    "    - Stop training if the difference between the current and previous development loss is smaller than a threshold (**1 mark**)\n",
    "    - After each epoch print the training and development loss (**1 mark**)\n",
    "\n",
    "\n",
    "\n",
    "- Discuss how did you choose hyperparameters (e.g. learning rate and regularisation strength) for each LR model? You should use a table showing model performance using different set of hyperparameter values. (**2 marks). **Tip: Instead of using all possible combinations, you could perform a random sampling of combinations.**\n",
    "\n",
    "\n",
    "- After training each LR model, plot the learning process (i.e. training and validation loss in each epoch) using a line plot. Does your model underfit, overfit or is it about right? Explain why. (**1 mark**). \n",
    "\n",
    "\n",
    "- Identify and show the most important features (model interpretability) for each class (i.e. top-10 most positive and top-10 negative weights). Give the top 10 for each class and comment on whether they make sense (if they don't you might have a bug!). If you were to apply the classifier into a different domain such laptop reviews or restaurant reviews, do you think these features would generalise well? Can you propose what features the classifier could pick up as important in the new domain? (**2 marks**)\n",
    "\n",
    "\n",
    "- Provide well documented and commented code describing all of your choices. In general, you are free to make decisions about text processing (e.g. punctuation, numbers, vocabulary size) and hyperparameter values. We expect to see justifications and discussion for all of your choices (**2 marks**). \n",
    "\n",
    "\n",
    "- Provide efficient solutions by using Numpy arrays when possible (you can find tips in Lab 1 sheet). Executing the whole notebook with your code should not take more than 5 minutes on a any standard computer (e.g. Intel Core i5 CPU, 8 or 16GB RAM) excluding hyperparameter tuning runs (**2 marks**). \n",
    "\n",
    "\n",
    "\n",
    "\n",
    "\n",
    "\n",
    "### Data \n",
    "\n",
    "The data you will use are taken from here: [http://www.cs.cornell.edu/people/pabo/movie-review-data/](http://www.cs.cornell.edu/people/pabo/movie-review-data/) and you can find it in the `./data_sentiment` folder in CSV format:\n",
    "\n",
    "- `data_sentiment/train.csv`: contains 1,400 reviews, 700 positive (label: 1) and 700 negative (label: 0) to be used for training.\n",
    "- `data_sentiment/dev.csv`: contains 200 reviews, 100 positive and 100 negative to be used for hyperparameter selection and monitoring the training process.\n",
    "- `data_sentiment/test.csv`: contains 400 reviews, 200 positive and 200 negative to be used for testing.\n",
    "\n",
    "\n",
    "\n",
    "\n",
    "### Submission Instructions\n",
    "\n",
    "You should submit a Jupyter Notebook file (assignment1.ipynb) and an exported PDF version (you can do it from Jupyter: `File->Download as->PDF via Latex` or you can print it as PDF using your browser).\n",
    "\n",
    "You are advised to follow the code structure given in this notebook by completing all given funtions. You can also write any auxilliary/helper functions (and arguments for the functions) that you might need but note that you can provide a full solution without any such functions. Similarly, you can just use only the packages imported below but you are free to use any functionality from the [Python Standard Library](https://docs.python.org/2/library/index.html), NumPy, SciPy (excluding built-in softmax funtcions) and Pandas. You are not allowed to use any third-party library such as Scikit-learn (apart from metric functions already provided), NLTK, Spacy, Keras etc.. \n",
    "\n",
    "There is no single correct answer on what your accuracy should be, but correct implementations usually achieve F1-scores around 80\\% or higher. The quality of the analysis of the results is as important as the accuracy itself. \n",
    "\n",
    "This assignment will be marked out of 20. It is worth 20\\% of your final grade in the module.\n",
    "\n",
    "The deadline for this assignment is **23:59 on Mon, 14 Mar 2022** and it needs to be submitted via Blackboard. Standard departmental penalties for lateness will be applied. We use a range of strategies to **detect [unfair means](https://www.sheffield.ac.uk/ssid/unfair-means/index)**, including Turnitin which helps detect plagiarism. Use of unfair means would result in getting a failing grade.\n",
    "\n"
   ]
  },
  {
   "cell_type": "code",
   "execution_count": 1,
   "metadata": {},
   "outputs": [
    {
     "name": "stdout",
     "output_type": "stream",
     "text": [
      "tune hyperparameters and show model performance? [Y/N]Y\n"
     ]
    }
   ],
   "source": [
    "tune_params = input(\"tune hyperparameters and show model performance? [Y/N]\")"
   ]
  },
  {
   "cell_type": "code",
   "execution_count": 2,
   "metadata": {},
   "outputs": [],
   "source": [
    "while (tune_params != 'Y') & (tune_params != 'N'):\n",
    "    tune_params = input(\"tune hyperparameters and show model performance? [Y/N]\")"
   ]
  },
  {
   "cell_type": "code",
   "execution_count": 3,
   "metadata": {
    "ExecuteTime": {
     "end_time": "2020-03-27T13:41:17.642162Z",
     "start_time": "2020-03-27T13:41:16.891940Z"
    }
   },
   "outputs": [],
   "source": [
    "import pandas as pd\n",
    "import numpy as np\n",
    "from collections import Counter\n",
    "import re\n",
    "import matplotlib.pyplot as plt\n",
    "from sklearn.metrics import accuracy_score, precision_score, recall_score, f1_score\n",
    "import random\n",
    "from prettytable import PrettyTable\n",
    "\n",
    "# fixing random seed for reproducibility\n",
    "random.seed(123)\n",
    "np.random.seed(123)\n"
   ]
  },
  {
   "cell_type": "markdown",
   "metadata": {},
   "source": [
    "## Load Raw texts and labels into arrays\n",
    "\n",
    "First, you need to load the training, development and test sets from their corresponding CSV files (tip: you can use Pandas dataframes)."
   ]
  },
  {
   "cell_type": "code",
   "execution_count": 4,
   "metadata": {
    "ExecuteTime": {
     "end_time": "2020-02-15T14:17:28.145788Z",
     "start_time": "2020-02-15T14:17:28.066100Z"
    }
   },
   "outputs": [],
   "source": [
    "training_data = pd.read_csv(\"data_sentiment/train.csv\")\n",
    "development_data = pd.read_csv(\"data_sentiment/dev.csv\")\n",
    "test_data = pd.read_csv(\"data_sentiment/test.csv\")"
   ]
  },
  {
   "cell_type": "markdown",
   "metadata": {},
   "source": [
    "If you use Pandas you can see a sample of the data."
   ]
  },
  {
   "cell_type": "code",
   "execution_count": 5,
   "metadata": {
    "ExecuteTime": {
     "end_time": "2020-02-15T14:17:28.900892Z",
     "start_time": "2020-02-15T14:17:28.891221Z"
    }
   },
   "outputs": [],
   "source": [
    "# training_data.sample(5)"
   ]
  },
  {
   "cell_type": "markdown",
   "metadata": {},
   "source": [
    "The next step is to put the raw texts into Python lists and their corresponding labels into NumPy arrays:\n"
   ]
  },
  {
   "cell_type": "code",
   "execution_count": 6,
   "metadata": {
    "ExecuteTime": {
     "end_time": "2020-02-15T14:17:31.115577Z",
     "start_time": "2020-02-15T14:17:31.108038Z"
    }
   },
   "outputs": [],
   "source": [
    "train_content = training_data.iloc[:,0].to_list()\n",
    "development_content = development_data.iloc[:,0].to_list()\n",
    "test_content = test_data.iloc[:,0].to_list()\n",
    "train_label = training_data.iloc[:,1].to_numpy()\n",
    "development_label = development_data.iloc[:,1].to_numpy()\n",
    "test_label = test_data.iloc[:,1].to_numpy()"
   ]
  },
  {
   "cell_type": "markdown",
   "metadata": {},
   "source": [
    "# Vector Representations of Text \n",
    "\n",
    "\n",
    "To train and test Logisitc Regression models, you first need to obtain vector representations for all documents given a vocabulary of features (unigrams, bigrams, trigrams).\n",
    "\n",
    "\n",
    "## Text Pre-Processing Pipeline\n",
    "\n",
    "To obtain a vocabulary of features, you should: \n",
    "- tokenise all texts into a list of unigrams (tip: using a regular expression) \n",
    "- remove stop words (using the one provided or one of your preference) \n",
    "- compute bigrams, trigrams given the remaining unigrams (or character ngrams from the unigrams)\n",
    "- remove ngrams appearing in less than K documents\n",
    "- use the remaining to create a vocabulary of unigrams, bigrams and trigrams (or character n-grams). You can keep top N if you encounter memory issues.\n"
   ]
  },
  {
   "cell_type": "code",
   "execution_count": 7,
   "metadata": {
    "ExecuteTime": {
     "end_time": "2020-02-15T14:17:31.860420Z",
     "start_time": "2020-02-15T14:17:31.855439Z"
    }
   },
   "outputs": [],
   "source": [
    "stop_words = ['a','in','on','at','and','or', \n",
    "              'to', 'the', 'of', 'an', 'by', \n",
    "              'as', 'is', 'was', 'were', 'been', 'be', \n",
    "              'are','for', 'this', 'that', 'these', 'those', 'you', 'i',\n",
    "             'it', 'he', 'she', 'we', 'they', 'will', 'have', 'has',\n",
    "              'do', 'did', 'can', 'could', 'who', 'which', 'what', \n",
    "             'his', 'her', 'they', 'them', 'from', 'with', 'its']\n",
    "stop_words = ['a', 'able', 'about', 'above', 'according', 'accordingly', 'across', 'actually', 'after','afterwards', 'again', 'against', 'all', 'allow', 'allows', 'almost', 'alone', 'along', 'already', 'also', 'although', 'always', 'am', 'among', 'amongst', 'an', 'and', 'another', 'any', 'anybody', 'anyhow', 'anyone', 'anything', 'anyway', 'anyways', 'anywhere', 'apart', 'appear', 'appreciate', 'appropriate', 'are', 'around', 'as', 'aside', 'ask', 'asking', 'associated', 'at', 'available', 'away', 'awfully', 'b', 'be', 'became', 'because', 'become', 'becomes', 'becoming', 'been', 'before', 'beforehand', 'behind', 'being', 'believe', 'below', 'beside', 'besides', 'best', 'better', 'between', 'beyond', 'both', 'brief', 'but', 'by', 'c', 'came', 'can', 'cannot', 'cant', 'cause', 'causes', 'certain', 'certainly', 'changes', 'clearly', 'co', 'com', 'come', 'comes', 'concerning', 'consequently', 'consider', 'considering', 'contain', 'containing', 'contains', 'corresponding', 'could', 'course', 'currently', 'd','definitely', 'described', 'despite', 'did', 'different', 'do', 'does', 'doing', 'done', 'down', 'downwards', 'during', 'e', 'each', 'edu', 'eg', 'eight', 'either', 'else', 'elsewhere', 'enough', 'entirely', 'especially', 'et', 'etc', 'even', 'ever', 'every', 'everybody', 'everyone', 'everything', 'everywhere', 'ex', 'exactly', 'example', 'except', 'f', 'far', 'few', 'fifth', 'first', 'five', 'followed', 'following', 'follows', 'for', 'former', 'formerly', 'forth', 'four', 'from', 'further', 'furthermore', 'g', 'get', 'gets', 'getting', 'given', 'gives', 'go', 'goes', 'going', 'gone', 'got', 'gotten', 'greetings', 'h', 'had', 'happens', 'hardly', 'has', 'have', 'having', 'he', 'hello', 'help', 'hence', 'her', 'here', 'hereafter', 'hereby', 'herein', 'hereupon', 'hers', 'herself', 'hi', 'him', 'himself', 'his', 'hither', 'hopefully', 'how', 'howbeit', 'however', 'i', 'ie', 'if', 'ignored', 'immediate', 'in', 'inasmuch', 'inc', 'indeed', 'indicate', 'indicated', 'indicates', 'inner', 'insofar', 'instead', 'into', 'inward', 'is', 'it', 'its', 'itself', 'j', 'just', 'k', 'keep', 'keeps', 'kept', 'know', 'knows', 'known', 'l', 'last', 'lately', 'later', 'latter', 'latterly', 'least', 'less', 'lest', 'let', 'like', 'liked', 'likely', 'little', 'look', 'looking', 'looks', 'ltd', 'm', 'mainly', 'many', 'may', 'maybe', 'me', 'mean', 'meanwhile', 'merely','might', 'more', 'moreover', 'most', 'mostly', 'much', 'must', 'my', 'myself', 'n', 'name', 'namely', 'nd','near', 'nearly', 'necessary', 'need', 'needs', 'neither', 'never', 'nevertheless', 'new', 'next', 'nine', 'no', 'nobody', 'non', 'none', 'noone', 'nor', 'normally', 'not', 'note', 'nothing', 'novel', 'now', 'nowhere', 'o', 'obviously', 'of', 'off', 'often', 'oh', 'ok', 'okay','old', 'on', 'once', 'one', 'ones', 'only', 'onto', 'or', 'other', 'others', 'otherwise', 'ought', 'our', 'ours', 'ourselves', 'out', 'outside', 'over', 'overall', 'own', 'p', 'particular', 'particularly', 'per', 'perhaps', 'placed', 'please', 'plus', 'possible', 'presumably', 'probably', 'provides', 'q', 'que', 'quite', 'qv', 'r', 'rather', 'rd', 're', 'really', 'reasonably', 'regarding', 'regardless', 'regards', 'relatively', 'respectively', 'right', 's', 'said', 'same', 'saw', 'say', 'saying', 'says', 'second', 'secondly', 'see', 'seeing', 'seem', 'seemed', 'seeming', 'seems', 'seen', 'self', 'selves', 'sensible', 'sent', 'serious', 'seriously', 'seven', 'several', 'shall', 'she', 'should', 'since', 'six', 'so', 'some', 'somebody', 'somehow', 'someone', 'something', 'sometime', 'sometimes', 'somewhat', 'somewhere', 'soon', 'sorry', 'specified', 'specify', 'specifying', 'still', 'sub', 'such', 'sup', 'sure', 't', 'take', 'taken', 'tell', 'tends', 'th', 'than', 'thank', 'thanks', 'thanx', 'that', 'thats', 'the', 'their', 'theirs', 'them', 'themselves', 'then', 'thence', 'there', 'thereafter', 'thereby', 'therefore', 'therein', 'theres', 'thereupon', 'these', 'they', 'think', 'third', 'this', 'thorough', 'thoroughly', 'those', 'though', 'three', 'through', 'throughout', 'thru', 'thus', 'to', 'together', 'too', 'took', 'toward', 'towards', 'tried', 'tries', 'truly', 'try', 'trying', 'twice', 'two', 'u', 'un', 'under', 'unfortunately', 'unless', 'unlikely', 'until', 'unto', 'up', 'upon', 'us', 'use', 'used', 'useful', 'uses', 'using', 'usually', 'uucp', 'v', 'value', 'various', 've', 'very', 'via', 'viz', 'vs', 'w', 'want', 'want', 'was', 'way', 'we', 'welcome', 'well', 'went', 'were', 'what', 'whatever', 'when', 'whence', 'whenever', 'where', 'whereafter', 'whereas', 'whereby', 'wherein', 'whereupon','wherever', 'whether', 'which', 'while', 'whither', 'who', 'whoever', 'whole', 'whom', 'whose', 'why', 'will', 'willing', 'wish', 'with', 'within', 'without', 'wonder', 'would', 'would', 'x', 'y', 'yes', 'yet', 'you', 'your', 'yours', 'yourself', 'yourselves', 'z', 'zero']"
   ]
  },
  {
   "cell_type": "markdown",
   "metadata": {},
   "source": [
    "### N-gram extraction from a document\n",
    "\n",
    "You first need to implement the `extract_ngrams` function. It takes as input:\n",
    "- `x_raw`: a string corresponding to the raw text of a document\n",
    "- `ngram_range`: a tuple of two integers denoting the type of ngrams you want to extract, e.g. (1,2) denotes extracting unigrams and bigrams.\n",
    "- `token_pattern`: a string to be used within a regular expression to extract all tokens. Note that data is already tokenised so you could opt for a simple white space tokenisation.\n",
    "- `stop_words`: a list of stop words\n",
    "- `vocab`: a given vocabulary. It should be used to extract specific features.\n",
    "- `char_ngrams`: boolean. If true the function extracts character n-grams\n",
    "\n",
    "and returns:\n",
    "\n",
    "- `x': a list of all extracted features.\n",
    "\n",
    "See the examples below to see how this function should work."
   ]
  },
  {
   "cell_type": "code",
   "execution_count": 8,
   "metadata": {
    "ExecuteTime": {
     "end_time": "2020-02-15T14:17:33.169090Z",
     "start_time": "2020-02-15T14:17:33.161268Z"
    }
   },
   "outputs": [],
   "source": [
    "def extract_ngrams(x_raw, ngram_range=(1,3), token_pattern=r'[A-Za-z]+', \n",
    "                   stop_words=[], vocab=set(), char_ngrams=False):\n",
    "    x = []\n",
    "    x_raw = re.findall(token_pattern, x_raw)\n",
    "    if char_ngrams==True:\n",
    "        x_raw = ''.join(x_raw)\n",
    "        for i in range(ngram_range[1]-ngram_range[0]+1):\n",
    "            for j in range(len(x_raw)-ngram_range[0]-i+1):\n",
    "                x.append([x_raw[j:j+ngram_range[0]+i]])\n",
    "        return x\n",
    "    \n",
    "    words = [word for word in x_raw if word not in stop_words]\n",
    "    for i in range(ngram_range[1]-ngram_range[0]+1):\n",
    "        for j in range(len(words)-ngram_range[0]-i+1):\n",
    "            x.append(words[j:j+ngram_range[0]+i])\n",
    "    return x"
   ]
  },
  {
   "cell_type": "markdown",
   "metadata": {},
   "source": [
    "Note that it is OK to represent n-grams using lists instead of tuples: e.g. `['great', ['great', 'movie']]`"
   ]
  },
  {
   "cell_type": "markdown",
   "metadata": {},
   "source": [
    "For extracting character n-grams the function should work as follows:"
   ]
  },
  {
   "cell_type": "code",
   "execution_count": 9,
   "metadata": {},
   "outputs": [
    {
     "data": {
      "text/plain": [
       "[]"
      ]
     },
     "execution_count": 9,
     "metadata": {},
     "output_type": "execute_result"
    }
   ],
   "source": [
    "extract_ngrams(\"movie\", \n",
    "               ngram_range=(2,4), \n",
    "               stop_words=[],\n",
    "               char_ngrams=False)"
   ]
  },
  {
   "cell_type": "markdown",
   "metadata": {},
   "source": [
    "### Create a vocabulary \n",
    "\n",
    "The `get_vocab` function will be used to (1) create a vocabulary of ngrams; (2) count the document frequencies of ngrams; (3) their raw frequency. It takes as input:\n",
    "- `X_raw`: a list of strings each corresponding to the raw text of a document\n",
    "- `ngram_range`: a tuple of two integers denoting the type of ngrams you want to extract, e.g. (1,2) denotes extracting unigrams and bigrams.\n",
    "- `token_pattern`: a string to be used within a regular expression to extract all tokens. Note that data is already tokenised so you could opt for a simple white space tokenisation.\n",
    "- `stop_words`: a list of stop words\n",
    "- `min_df`: keep ngrams with a minimum document frequency.\n",
    "- `keep_topN`: keep top-N more frequent ngrams.\n",
    "\n",
    "and returns:\n",
    "\n",
    "- `vocab`: a set of the n-grams that will be used as features.\n",
    "- `df`: a Counter (or dict) that contains ngrams as keys and their corresponding document frequency as values.\n",
    "- `ngram_counts`: counts of each ngram in vocab\n",
    "\n",
    "Hint: it should make use of the `extract_ngrams` function."
   ]
  },
  {
   "cell_type": "code",
   "execution_count": 10,
   "metadata": {},
   "outputs": [],
   "source": [
    "def get_vocab(X_raw, ngram_range=(1,3), token_pattern=r'\\w+', \n",
    "              min_df=0, keep_topN=0, \n",
    "              stop_words=[],char_ngrams=False):\n",
    "    all_words = extract_ngrams(x_raw=str(X_raw), ngram_range=ngram_range, stop_words=stop_words, char_ngrams=char_ngrams)\n",
    "    \n",
    "    # compute term frequency\n",
    "    ngram_counts = {}\n",
    "    for word in all_words:\n",
    "        temp = ' '.join(word)\n",
    "        if temp not in ngram_counts:\n",
    "            ngram_counts[temp] = 1\n",
    "        else:\n",
    "            ngram_counts[temp] = ngram_counts[temp] + 1\n",
    "    ngram_counts = {key:val for key, val in ngram_counts.items() if val >= keep_topN}\n",
    "    \n",
    "    # compute df by using words in ngram_counts in order to be efficient.\n",
    "    # The reason I can do this is that I only care about the words in ngram_counts instead of all words in the content\n",
    "    df = {}\n",
    "    for i in ngram_counts.keys():\n",
    "        counts = 0\n",
    "        for j in range(len(X_raw)):\n",
    "            if i in X_raw[j]:\n",
    "                counts += 1\n",
    "        df[i] = counts\n",
    "    df = {key:val for key, val in df.items() if val >= min_df}\n",
    "    \n",
    "    # use the words in df to create vocab set\n",
    "    # the reason to choose df is that dict df is smaller than dict ngram_counts and only words in df are valuable.\n",
    "    vocab = [[i] for i in df.keys()]\n",
    "    \n",
    "    return vocab, df, ngram_counts"
   ]
  },
  {
   "cell_type": "markdown",
   "metadata": {},
   "source": [
    "Now you should use `get_vocab` to create your vocabulary and get document and raw frequencies of n-grams:"
   ]
  },
  {
   "cell_type": "code",
   "execution_count": 11,
   "metadata": {
    "ExecuteTime": {
     "end_time": "2020-02-15T14:17:39.319793Z",
     "start_time": "2020-02-15T14:17:36.836545Z"
    }
   },
   "outputs": [],
   "source": [
    "vocab, df, tf = get_vocab(X_raw=train_content,min_df=55, keep_topN=75, stop_words=stop_words)"
   ]
  },
  {
   "cell_type": "markdown",
   "metadata": {},
   "source": [
    "Then, you need to create 2 dictionaries: (1) vocabulary id -> word; and  (2) word -> vocabulary id so you can use them for reference:"
   ]
  },
  {
   "cell_type": "code",
   "execution_count": 12,
   "metadata": {
    "ExecuteTime": {
     "end_time": "2020-02-15T14:17:39.326811Z",
     "start_time": "2020-02-15T14:17:39.322256Z"
    }
   },
   "outputs": [],
   "source": [
    "vocab_to_id = {}\n",
    "id_to_vocab = {}\n",
    "for word in vocab:\n",
    "    string = \" \".join(word)\n",
    "    vocab_to_id[string] = vocab.index(word)\n",
    "    id_to_vocab[vocab.index(word)] = string"
   ]
  },
  {
   "cell_type": "markdown",
   "metadata": {},
   "source": [
    "Now you should be able to extract n-grams for each text in the training, development and test sets:"
   ]
  },
  {
   "cell_type": "code",
   "execution_count": 13,
   "metadata": {},
   "outputs": [],
   "source": [
    "# create a content that only consists of words in vocab\n",
    "# because using the original content would affect the performance of bigram, trigram, etc.\n",
    "def content_without_stopwords (raw_content, vocab):\n",
    "    processed_content = [None]*len(raw_content)\n",
    "    for i in range(len(raw_content)):\n",
    "        raw_words = raw_content[i].split()\n",
    "        resultwords  = [word for word in raw_words if [word] in vocab]\n",
    "        processed_content[i] = ' '.join(resultwords)\n",
    "    return processed_content"
   ]
  },
  {
   "cell_type": "code",
   "execution_count": 14,
   "metadata": {},
   "outputs": [],
   "source": [
    "processed_train_content = content_without_stopwords(raw_content=train_content, vocab=vocab)\n",
    "processed_dev_content = content_without_stopwords(raw_content=development_content, vocab=vocab)\n",
    "processed_test_content = content_without_stopwords(raw_content=test_content, vocab=vocab)"
   ]
  },
  {
   "cell_type": "markdown",
   "metadata": {},
   "source": [
    "## Vectorise documents "
   ]
  },
  {
   "cell_type": "markdown",
   "metadata": {},
   "source": [
    "Next, write a function `vectoriser` to obtain Bag-of-ngram representations for a list of documents. The function should take as input:\n",
    "- `X_ngram`: a list of texts (documents), where each text is represented as list of n-grams in the `vocab`\n",
    "- `vocab`: a set of n-grams to be used for representing the documents\n",
    "\n",
    "and return:\n",
    "- `X_vec`: an array with dimensionality Nx|vocab| where N is the number of documents and |vocab| is the size of the vocabulary. Each element of the array should represent the frequency of a given n-gram in a document.\n"
   ]
  },
  {
   "cell_type": "code",
   "execution_count": 15,
   "metadata": {
    "ExecuteTime": {
     "end_time": "2020-02-15T14:17:40.219201Z",
     "start_time": "2020-02-15T14:17:40.215129Z"
    }
   },
   "outputs": [],
   "source": [
    "def vectorise(X_ngram, vocab):\n",
    "    X_vec = np.empty([len(X_ngram), len(vocab)])\n",
    "    for i in range(len(vocab)):\n",
    "        string = \" \".join(vocab[i])\n",
    "        for j in range(len(X_ngram)):\n",
    "            X_vec[j,i] = X_ngram[j].count(string)     \n",
    "    return X_vec"
   ]
  },
  {
   "cell_type": "markdown",
   "metadata": {},
   "source": [
    "Finally, use `vectorise` to obtain document vectors for each document in the train, development and test set. You should extract both count and tf.idf vectors respectively:"
   ]
  },
  {
   "cell_type": "markdown",
   "metadata": {},
   "source": [
    "#### Count vectors"
   ]
  },
  {
   "cell_type": "code",
   "execution_count": 16,
   "metadata": {
    "ExecuteTime": {
     "end_time": "2020-02-15T14:17:41.999574Z",
     "start_time": "2020-02-15T14:17:40.376534Z"
    }
   },
   "outputs": [],
   "source": [
    "train_vec = vectorise(X_ngram=processed_train_content, vocab=vocab)\n",
    "development_vec = vectorise(X_ngram=processed_dev_content, vocab=vocab)\n",
    "test_vec = vectorise(X_ngram=processed_test_content, vocab=vocab)"
   ]
  },
  {
   "cell_type": "markdown",
   "metadata": {},
   "source": [
    "#### TF.IDF vectors\n",
    "\n",
    "First compute `idfs` an array containing inverted document frequencies (Note: its elements should correspond to your `vocab`)"
   ]
  },
  {
   "cell_type": "code",
   "execution_count": 17,
   "metadata": {
    "ExecuteTime": {
     "end_time": "2020-02-15T14:17:42.022692Z",
     "start_time": "2020-02-15T14:17:42.012315Z"
    }
   },
   "outputs": [],
   "source": [
    "import math\n",
    "idf = {}\n",
    "for key, value in df.items():\n",
    "    idf[key] = math.log(len(train_content)/value,10)"
   ]
  },
  {
   "cell_type": "markdown",
   "metadata": {},
   "source": [
    "Then transform your count vectors to tf.idf vectors:"
   ]
  },
  {
   "cell_type": "code",
   "execution_count": 18,
   "metadata": {
    "ExecuteTime": {
     "end_time": "2020-02-15T14:17:42.802265Z",
     "start_time": "2020-02-15T14:17:42.752448Z"
    }
   },
   "outputs": [],
   "source": [
    "# create a list of idf values\n",
    "idf_list = list(idf.values())"
   ]
  },
  {
   "cell_type": "code",
   "execution_count": 19,
   "metadata": {},
   "outputs": [],
   "source": [
    "# define a function to compute tfidf because this function would be used many times\n",
    "def compute_tfidf(idf_list, vec):\n",
    "    tfidf = np.empty([(np.shape(vec)[0]), (np.shape(vec)[1])])\n",
    "    for i in range(np.shape(vec)[0]):\n",
    "        for j in range(np.shape(vec)[1]):\n",
    "            tfidf[i,j] = vec[i,j]*idf_list[j]\n",
    "    return tfidf"
   ]
  },
  {
   "cell_type": "code",
   "execution_count": 20,
   "metadata": {},
   "outputs": [],
   "source": [
    "train_tfidf = compute_tfidf(idf_list=idf_list, vec=train_vec)\n",
    "development_tfidf = compute_tfidf(idf_list=idf_list, vec=development_vec)\n",
    "test_tfidf = compute_tfidf(idf_list=idf_list, vec=test_vec)"
   ]
  },
  {
   "cell_type": "markdown",
   "metadata": {},
   "source": [
    "# Binary Logistic Regression\n",
    "\n",
    "After obtaining vector representations of the data, now you are ready to implement Binary Logistic Regression for classifying sentiment."
   ]
  },
  {
   "cell_type": "markdown",
   "metadata": {},
   "source": [
    "First, you need to implement the `sigmoid` function. It takes as input:\n",
    "\n",
    "- `z`: a real number or an array of real numbers \n",
    "\n",
    "and returns:\n",
    "\n",
    "- `sig`: the sigmoid of `z`"
   ]
  },
  {
   "cell_type": "code",
   "execution_count": 21,
   "metadata": {
    "ExecuteTime": {
     "end_time": "2020-02-15T14:17:44.160661Z",
     "start_time": "2020-02-15T14:17:44.157902Z"
    }
   },
   "outputs": [],
   "source": [
    "def sigmoid(z):\n",
    "    sig = 1/(1+np.exp(-z))   \n",
    "    return sig"
   ]
  },
  {
   "cell_type": "markdown",
   "metadata": {},
   "source": [
    "Then, implement the `predict_proba` function to obtain prediction probabilities. It takes as input:\n",
    "\n",
    "- `X`: an array of inputs, i.e. documents represented by bag-of-ngram vectors ($N \\times |vocab|$)\n",
    "- `weights`: a 1-D array of the model's weights $(1, |vocab|)$\n",
    "\n",
    "and returns:\n",
    "\n",
    "- `preds_proba`: the prediction probabilities of X given the weights"
   ]
  },
  {
   "cell_type": "code",
   "execution_count": 22,
   "metadata": {
    "ExecuteTime": {
     "end_time": "2020-02-15T14:17:44.718566Z",
     "start_time": "2020-02-15T14:17:44.715017Z"
    }
   },
   "outputs": [],
   "source": [
    "def predict_proba(X, weights):\n",
    "    z = np.dot(X, weights)\n",
    "    preds_proba = sigmoid(z)\n",
    "    return preds_proba"
   ]
  },
  {
   "cell_type": "markdown",
   "metadata": {},
   "source": [
    "Then, implement the `predict_class` function to obtain the most probable class for each vector in an array of input vectors. It takes as input:\n",
    "\n",
    "- `X`: an array of documents represented by bag-of-ngram vectors ($N \\times |vocab|$)\n",
    "- `weights`: a 1-D array of the model's weights $(1, |vocab|)$\n",
    "\n",
    "and returns:\n",
    "\n",
    "- `preds_class`: the predicted class for each x in X given the weights"
   ]
  },
  {
   "cell_type": "code",
   "execution_count": 23,
   "metadata": {
    "ExecuteTime": {
     "end_time": "2020-02-15T14:17:45.002125Z",
     "start_time": "2020-02-15T14:17:44.998668Z"
    }
   },
   "outputs": [],
   "source": [
    "def predict_class(X, weights):\n",
    "    preds_proba = predict_proba(X, weights)\n",
    "    preds_class = np.zeros(len(preds_proba))\n",
    "    for i in range(len(preds_proba)):\n",
    "        if preds_proba[i] < 0.5:\n",
    "            preds_class[i] = 0\n",
    "        else:\n",
    "            preds_class[i] = 1    \n",
    "    return preds_class"
   ]
  },
  {
   "cell_type": "markdown",
   "metadata": {},
   "source": [
    "To learn the weights from data, we need to minimise the binary cross-entropy loss. Implement `binary_loss` that takes as input:\n",
    "\n",
    "- `X`: input vectors\n",
    "- `Y`: labels\n",
    "- `weights`: model weights\n",
    "- `alpha`: regularisation strength\n",
    "\n",
    "and return:\n",
    "\n",
    "- `l`: the loss score"
   ]
  },
  {
   "cell_type": "code",
   "execution_count": 24,
   "metadata": {
    "ExecuteTime": {
     "end_time": "2020-02-15T14:17:45.455533Z",
     "start_time": "2020-02-15T14:17:45.451475Z"
    }
   },
   "outputs": [],
   "source": [
    "# use array to calculate\n",
    "def binary_loss(X, Y, weights, alpha=0.00001):\n",
    "    '''\n",
    "    Binary Cross-entropy Loss\n",
    "\n",
    "    X:(len(X),len(vocab))\n",
    "    Y: array len(Y)\n",
    "    weights: array len(X)\n",
    "    '''\n",
    "    y = predict_proba(X, weights)\n",
    "    l_first = (np.dot(np.transpose(-Y), (np.log(y))) - np.dot(np.transpose(1-Y), (np.log(1-y))))/len(Y)\n",
    "    r = np.dot(np.transpose(weights), weights)\n",
    "    l = l_first + r*alpha\n",
    "    return l"
   ]
  },
  {
   "cell_type": "markdown",
   "metadata": {},
   "source": [
    "Now, you can implement Stochastic Gradient Descent to learn the weights of your sentiment classifier. The `SGD` function takes as input:\n",
    "\n",
    "- `X_tr`: array of training data (vectors)\n",
    "- `Y_tr`: labels of `X_tr`\n",
    "- `X_dev`: array of development (i.e. validation) data (vectors)\n",
    "- `Y_dev`: labels of `X_dev`\n",
    "- `lr`: learning rate\n",
    "- `alpha`: regularisation strength\n",
    "- `epochs`: number of full passes over the training data\n",
    "- `tolerance`: stop training if the difference between the current and previous validation loss is smaller than a threshold\n",
    "- `print_progress`: flag for printing the training progress (train/validation loss)\n",
    "\n",
    "\n",
    "and returns:\n",
    "\n",
    "- `weights`: the weights learned\n",
    "- `training_loss_history`: an array with the average losses of the whole training set after each epoch\n",
    "- `validation_loss_history`: an array with the average losses of the whole development set after each epoch"
   ]
  },
  {
   "cell_type": "code",
   "execution_count": 25,
   "metadata": {
    "ExecuteTime": {
     "end_time": "2020-02-15T14:17:45.968510Z",
     "start_time": "2020-02-15T14:17:45.958185Z"
    }
   },
   "outputs": [],
   "source": [
    "def SGD(X_tr, Y_tr, X_dev=[], Y_dev=[], lr=0.0001, \n",
    "        alpha=0.001, epochs=180, \n",
    "        tolerance=0.0000001, print_progress=False):\n",
    "    w = np.zeros(np.shape(X_tr)[1])\n",
    "    index = list(range(len(Y_tr)))\n",
    "    training_loss_history = []\n",
    "    validation_loss_history = []\n",
    "    for i in range(epochs):\n",
    "        random.Random(32*i).shuffle(index)\n",
    "        for j in index:\n",
    "            w = w - lr*(predict_proba(X_tr[j], w)-Y_tr[j])*X_tr[j]\n",
    "    \n",
    "    \n",
    "        l = binary_loss(X_tr, Y_tr, w)\n",
    "        l_val = binary_loss(X_dev, Y_dev, w)\n",
    "        training_loss_history.append(l)\n",
    "        validation_loss_history.append(l_val)\n",
    "        if i>0:\n",
    "            if abs(validation_loss_history[i-1]-validation_loss_history[i])<tolerance:\n",
    "                break\n",
    "        weights = w\n",
    "    \n",
    "    if print_progress==True:\n",
    "        print('train loss: ', training_loss_history)\n",
    "        print('------------------------------------------------')\n",
    "        print('val loss: ', validation_loss_history)\n",
    "    \n",
    "    return weights, training_loss_history, validation_loss_history"
   ]
  },
  {
   "cell_type": "code",
   "execution_count": 26,
   "metadata": {},
   "outputs": [],
   "source": [
    "# create a list of hyperparameters' values\n",
    "lr = np.array(np.logspace(-6, -3, 4, endpoint=True))\n",
    "alpha = np.array(np.logspace(-6, -3, 4, endpoint=True))\n",
    "epochs = np.array([30, 75, 120, 165])"
   ]
  },
  {
   "cell_type": "markdown",
   "metadata": {},
   "source": [
    "## Train and Evaluate Logistic Regression with Count vectors\n",
    "\n",
    "First train the model using SGD:"
   ]
  },
  {
   "cell_type": "code",
   "execution_count": 27,
   "metadata": {},
   "outputs": [
    {
     "name": "stdout",
     "output_type": "stream",
     "text": [
      "max accuracy: 0.8245614035087719\n",
      "lr:  0.001\n",
      "alpha:  1e-06\n",
      "epochs:  30\n",
      "+--------------+--------------------+--------------------+--------------------+--------------------+\n",
      "|  lr = 1e-06  |   alpha = 1e-06    |   alpha = 1e-05    |   alpha = 0.0001   |   alpha = 0.001    |\n",
      "+--------------+--------------------+--------------------+--------------------+--------------------+\n",
      "| epochs = 30  | 0.5739348370927319 | 0.5739348370927319 | 0.5739348370927319 | 0.5739348370927319 |\n",
      "| epochs = 75  | 0.6867167919799498 | 0.6867167919799498 | 0.6867167919799498 | 0.6867167919799498 |\n",
      "| epochs = 120 | 0.7192982456140351 | 0.7192982456140351 | 0.7192982456140351 | 0.7192982456140351 |\n",
      "| epochs = 165 | 0.7343358395989975 | 0.7343358395989975 | 0.7343358395989975 | 0.7343358395989975 |\n",
      "+--------------+--------------------+--------------------+--------------------+--------------------+\n",
      "+--------------+--------------------+--------------------+--------------------+--------------------+\n",
      "|  lr = 1e-05  |   alpha = 1e-06    |   alpha = 1e-05    |   alpha = 0.0001   |   alpha = 0.001    |\n",
      "+--------------+--------------------+--------------------+--------------------+--------------------+\n",
      "| epochs = 30  | 0.7769423558897243 | 0.7769423558897243 | 0.7769423558897243 | 0.7769423558897243 |\n",
      "| epochs = 75  | 0.7894736842105263 | 0.7894736842105263 | 0.7894736842105263 | 0.7894736842105263 |\n",
      "| epochs = 120 | 0.7869674185463659 | 0.7869674185463659 | 0.7869674185463659 | 0.7869674185463659 |\n",
      "| epochs = 165 | 0.7869674185463659 | 0.7869674185463659 | 0.7869674185463659 | 0.7869674185463659 |\n",
      "+--------------+--------------------+--------------------+--------------------+--------------------+\n",
      "+--------------+--------------------+--------------------+--------------------+--------------------+\n",
      "| lr = 0.0001  |   alpha = 1e-06    |   alpha = 1e-05    |   alpha = 0.0001   |   alpha = 0.001    |\n",
      "+--------------+--------------------+--------------------+--------------------+--------------------+\n",
      "| epochs = 30  | 0.8070175438596491 | 0.8070175438596491 | 0.8070175438596491 | 0.8070175438596491 |\n",
      "| epochs = 75  | 0.8095238095238095 | 0.8095238095238095 | 0.8095238095238095 | 0.8095238095238095 |\n",
      "| epochs = 120 | 0.8220551378446115 | 0.8220551378446115 | 0.8220551378446115 | 0.8220551378446115 |\n",
      "| epochs = 165 | 0.8220551378446115 | 0.8220551378446115 | 0.8220551378446115 | 0.8220551378446115 |\n",
      "+--------------+--------------------+--------------------+--------------------+--------------------+\n",
      "+--------------+--------------------+--------------------+--------------------+--------------------+\n",
      "|  lr = 0.001  |   alpha = 1e-06    |   alpha = 1e-05    |   alpha = 0.0001   |   alpha = 0.001    |\n",
      "+--------------+--------------------+--------------------+--------------------+--------------------+\n",
      "| epochs = 30  | 0.8245614035087719 | 0.8245614035087719 | 0.8245614035087719 | 0.8245614035087719 |\n",
      "| epochs = 75  | 0.8245614035087719 | 0.8245614035087719 | 0.8245614035087719 | 0.8245614035087719 |\n",
      "| epochs = 120 | 0.8195488721804511 | 0.8195488721804511 | 0.8195488721804511 | 0.8195488721804511 |\n",
      "| epochs = 165 | 0.8145363408521303 | 0.8145363408521303 | 0.8145363408521303 | 0.8145363408521303 |\n",
      "+--------------+--------------------+--------------------+--------------------+--------------------+\n"
     ]
    }
   ],
   "source": [
    "# to train model using different hyperparameters, including alpha, learning rate, and epochs.\n",
    "\n",
    "# Mistakes here: Use validation set to choose hyperparameters, not test set. After choosing the best hyperparameters,\n",
    "# train again and see how it performs on the test set.\n",
    "if tune_params == 'Y':\n",
    "    # create the table showing performance of each model. Here I use accuracy as the performance.\n",
    "    table_lr0 = PrettyTable([\"lr = {}\".format(lr[0]), \"alpha = {}\".format(alpha[0]), \"alpha = {}\".format(alpha[1])\n",
    "                , \"alpha = {}\".format(alpha[2]), \"alpha = {}\".format(alpha[3])])\n",
    "    table_lr1 = PrettyTable([\"lr = {}\".format(lr[1]), \"alpha = {}\".format(alpha[0]), \"alpha = {}\".format(alpha[1])\n",
    "                , \"alpha = {}\".format(alpha[2]), \"alpha = {}\".format(alpha[3])])\n",
    "    table_lr2 = PrettyTable([\"lr = {}\".format(lr[2]), \"alpha = {}\".format(alpha[0]), \"alpha = {}\".format(alpha[1])\n",
    "                , \"alpha = {}\".format(alpha[2]), \"alpha = {}\".format(alpha[3])])\n",
    "    table_lr3 = PrettyTable([\"lr = {}\".format(lr[3]), \"alpha = {}\".format(alpha[0]), \"alpha = {}\".format(alpha[1])\n",
    "                , \"alpha = {}\".format(alpha[2]), \"alpha = {}\".format(alpha[3])])\n",
    "    acc_history = []\n",
    "    # use for-loop to run each model.\n",
    "    for i in range(len(lr)):\n",
    "        for j in range(len(alpha)):\n",
    "            for k in range(len(epochs)):\n",
    "                w_count, t, v = SGD(X_tr=train_vec, Y_tr=train_label, X_dev=development_vec, Y_dev=development_label, lr=lr[i], alpha=alpha[j], epochs=epochs[k])\n",
    "                preds_te_count = predict_class(test_vec, w_count)\n",
    "                if v[len(v)-1] < 1:\n",
    "                    acc_history.append(accuracy_score(test_label,preds_te_count))\n",
    "                else:\n",
    "                    acc_history.append(0)\n",
    "        # add the accuracy into my tables\n",
    "        if i == 0:\n",
    "            table_lr0.add_row([\"epochs = {}\".format(epochs[0]), acc_history[i*16+0], acc_history[i*16+4], acc_history[i*16+8], acc_history[i*16+12]])\n",
    "            table_lr0.add_row([\"epochs = {}\".format(epochs[1]), acc_history[i*16+1], acc_history[i*16+5], acc_history[i*16+9], acc_history[i*16+13]])\n",
    "            table_lr0.add_row([\"epochs = {}\".format(epochs[2]), acc_history[i*16+2], acc_history[i*16+6], acc_history[i*16+10], acc_history[i*16+14]])\n",
    "            table_lr0.add_row([\"epochs = {}\".format(epochs[3]), acc_history[i*16+3], acc_history[i*16+7], acc_history[i*16+11], acc_history[i*16+15]])\n",
    "        if i == 1:\n",
    "            table_lr1.add_row([\"epochs = {}\".format(epochs[0]), acc_history[i*16+0], acc_history[i*16+4], acc_history[i*16+8], acc_history[i*16+12]])\n",
    "            table_lr1.add_row([\"epochs = {}\".format(epochs[1]), acc_history[i*16+1], acc_history[i*16+5], acc_history[i*16+9], acc_history[i*16+13]])\n",
    "            table_lr1.add_row([\"epochs = {}\".format(epochs[2]), acc_history[i*16+2], acc_history[i*16+6], acc_history[i*16+10], acc_history[i*16+14]])\n",
    "            table_lr1.add_row([\"epochs = {}\".format(epochs[3]), acc_history[i*16+3], acc_history[i*16+7], acc_history[i*16+11], acc_history[i*16+15]])\n",
    "        if i == 2:\n",
    "            table_lr2.add_row([\"epochs = {}\".format(epochs[0]), acc_history[i*16+0], acc_history[i*16+4], acc_history[i*16+8], acc_history[i*16+12]])\n",
    "            table_lr2.add_row([\"epochs = {}\".format(epochs[1]), acc_history[i*16+1], acc_history[i*16+5], acc_history[i*16+9], acc_history[i*16+13]])\n",
    "            table_lr2.add_row([\"epochs = {}\".format(epochs[2]), acc_history[i*16+2], acc_history[i*16+6], acc_history[i*16+10], acc_history[i*16+14]])\n",
    "            table_lr2.add_row([\"epochs = {}\".format(epochs[3]), acc_history[i*16+3], acc_history[i*16+7], acc_history[i*16+11], acc_history[i*16+15]])\n",
    "        if i == 3:\n",
    "            table_lr3.add_row([\"epochs = {}\".format(epochs[0]), acc_history[i*16+0], acc_history[i*16+4], acc_history[i*16+8], acc_history[i*16+12]])\n",
    "            table_lr3.add_row([\"epochs = {}\".format(epochs[1]), acc_history[i*16+1], acc_history[i*16+5], acc_history[i*16+9], acc_history[i*16+13]])\n",
    "            table_lr3.add_row([\"epochs = {}\".format(epochs[2]), acc_history[i*16+2], acc_history[i*16+6], acc_history[i*16+10], acc_history[i*16+14]])\n",
    "            table_lr3.add_row([\"epochs = {}\".format(epochs[3]), acc_history[i*16+3], acc_history[i*16+7], acc_history[i*16+11], acc_history[i*16+15]])\n",
    "    result = max(acc_history)\n",
    "    print('max accuracy:', result)\n",
    "    index_of_result = acc_history.index(result)\n",
    "    lr_index = (index_of_result)//16\n",
    "    alpha_index = (index_of_result%16)//4\n",
    "    epochs_index = (index_of_result%4)\n",
    "    print('lr: ', lr[lr_index])\n",
    "    print('alpha: ', alpha[alpha_index])\n",
    "    print('epochs: ', epochs[epochs_index])\n",
    "    print(table_lr0)\n",
    "    print(table_lr1)\n",
    "    print(table_lr2)\n",
    "    print(table_lr3)    "
   ]
  },
  {
   "cell_type": "markdown",
   "metadata": {},
   "source": [
    "The table above shows that if the learning rate is small, the model needs a lot of training(epochs) to have a better performance."
   ]
  },
  {
   "cell_type": "code",
   "execution_count": 28,
   "metadata": {},
   "outputs": [
    {
     "name": "stdout",
     "output_type": "stream",
     "text": [
      "train loss:  [0.5237446231674533, 0.4598958396943405, 0.417625139762551, 0.39131659817128767, 0.3699847163197355, 0.3542820166760697, 0.33979873888380074, 0.3261376559252188, 0.3132001307441163, 0.3123859198456283, 0.29517765831364134, 0.2864944463425897, 0.27930319008959525, 0.28170348646284504, 0.2671498248065886, 0.2621059070939449, 0.2633544590032282, 0.2497121788012522, 0.2451044812534158, 0.24079316510853427, 0.2434685396017481, 0.23631375180526418, 0.22893170952370084, 0.22523144680973398, 0.22126867620071952, 0.21791808774402951, 0.22086096306930622, 0.21159902472315276, 0.2088484826319793, 0.20590085801287555]\n",
      "------------------------------------------------\n",
      "val loss:  [0.578607392784173, 0.5528542875089766, 0.528184863434301, 0.5232283407223768, 0.5121228999596672, 0.5182959445165406, 0.5127358809343335, 0.5057591012220601, 0.5011817186911576, 0.5095155258594161, 0.5008169775709146, 0.49481775392802796, 0.49526182218644393, 0.5036289055091067, 0.4937563872055492, 0.49617816835467193, 0.5082344376684081, 0.4960988775376062, 0.4967311056685078, 0.49730780530622326, 0.5071129271308218, 0.5052426025109235, 0.4981088618185785, 0.5005587753279394, 0.5006436754512664, 0.5017202407598437, 0.5093331363617594, 0.502325959591172, 0.5000915070042214, 0.499669948276321]\n"
     ]
    }
   ],
   "source": [
    "# if choose to tune parameters, show the best model; otherwise, use the default value to train the model.\n",
    "if tune_params == 'Y':    \n",
    "    w_count, t, v = SGD(train_vec, train_label, X_dev=development_vec, Y_dev=development_label, \n",
    "                    lr=lr[lr_index], alpha=alpha[alpha_index], epochs=epochs[epochs_index], print_progress=True)\n",
    "else:\n",
    "    w_count, t, v = SGD(train_vec, train_label, X_dev=development_vec, Y_dev=development_label, print_progress=True)"
   ]
  },
  {
   "cell_type": "markdown",
   "metadata": {},
   "source": [
    "Now plot the training and validation history per epoch for the best hyperparameter combination. Does your model underfit, overfit or is it about right? Explain why."
   ]
  },
  {
   "cell_type": "code",
   "execution_count": 29,
   "metadata": {
    "ExecuteTime": {
     "end_time": "2020-02-15T14:17:51.598911Z",
     "start_time": "2020-02-15T14:17:51.482307Z"
    }
   },
   "outputs": [
    {
     "data": {
      "text/plain": [
       "[<matplotlib.lines.Line2D at 0x1524b6ef9d0>]"
      ]
     },
     "execution_count": 29,
     "metadata": {},
     "output_type": "execute_result"
    },
    {
     "data": {
      "image/png": "[encoded data removed]",
      "text/plain": [
       "<Figure size 432x288 with 1 Axes>"
      ]
     },
     "metadata": {
      "needs_background": "light"
     },
     "output_type": "display_data"
    }
   ],
   "source": [
    "plt.plot(t, 'r')\n",
    "plt.plot(v, 'b')"
   ]
  },
  {
   "cell_type": "markdown",
   "metadata": {
    "ExecuteTime": {
     "end_time": "2020-01-21T16:52:26.583150Z",
     "start_time": "2020-01-21T16:52:26.578754Z"
    }
   },
   "source": [
    "The final val loss is about 0.5, which is acceptable.\n",
    "The curve of val loss is descending without a trend of ascending. This means the model is neither overfitting nor underfitting."
   ]
  },
  {
   "cell_type": "markdown",
   "metadata": {},
   "source": [
    "| BOW-count | Precision  | Recall  | F1-Score  |\n",
    "|:-:|:-:|:-:|:-:|\n",
    "| lr = 0.0001  |   |   |   |\n",
    "| BOW-tfidf  |   |   |   |\n",
    "| BOCN-count  |   |   |   |\n",
    "| BOCN-tfidf  |   |   |   |\n",
    "| BOW+BOCN  |   |   |   |"
   ]
  },
  {
   "cell_type": "markdown",
   "metadata": {},
   "source": [
    "#### Evaluation\n",
    "\n",
    "Compute accuracy, precision, recall and F1-scores:"
   ]
  },
  {
   "cell_type": "code",
   "execution_count": 30,
   "metadata": {
    "ExecuteTime": {
     "end_time": "2020-02-15T14:17:51.607940Z",
     "start_time": "2020-02-15T14:17:51.600272Z"
    }
   },
   "outputs": [
    {
     "name": "stdout",
     "output_type": "stream",
     "text": [
      "Accuracy: 0.8245614035087719\n",
      "Precision: 0.8177339901477833\n",
      "Recall: 0.8341708542713567\n",
      "F1-Score: 0.8258706467661691\n"
     ]
    }
   ],
   "source": [
    "preds_te_count = predict_class(test_vec, w_count)\n",
    "print('Accuracy:', accuracy_score(test_label,preds_te_count))\n",
    "print('Precision:', precision_score(test_label,preds_te_count))\n",
    "print('Recall:', recall_score(test_label,preds_te_count))\n",
    "print('F1-Score:', f1_score(test_label,preds_te_count))"
   ]
  },
  {
   "cell_type": "markdown",
   "metadata": {},
   "source": [
    "Finally, print the top-10 words for the negative and positive class respectively."
   ]
  },
  {
   "cell_type": "code",
   "execution_count": 31,
   "metadata": {
    "ExecuteTime": {
     "end_time": "2020-02-15T14:17:51.613935Z",
     "start_time": "2020-02-15T14:17:51.610660Z"
    }
   },
   "outputs": [
    {
     "name": "stdout",
     "output_type": "stream",
     "text": [
      "bad\n",
      "supposed\n",
      "worst\n",
      "waste\n",
      "boring\n",
      "attempt\n",
      "ridiculous\n",
      "script\n",
      "write\n",
      "stupid\n"
     ]
    }
   ],
   "source": [
    "top_neg = w_count.argsort()[:10]\n",
    "for i in top_neg:\n",
    "    print(id_to_vocab[i])"
   ]
  },
  {
   "cell_type": "code",
   "execution_count": 32,
   "metadata": {
    "ExecuteTime": {
     "end_time": "2020-02-15T14:17:51.624122Z",
     "start_time": "2020-02-15T14:17:51.615674Z"
    }
   },
   "outputs": [
    {
     "name": "stdout",
     "output_type": "stream",
     "text": [
      "perfect\n",
      "hilarious\n",
      "excellent\n",
      "enjoy\n",
      "simple\n",
      "great\n",
      "true\n",
      "memorable\n",
      "movies\n",
      "bit\n"
     ]
    }
   ],
   "source": [
    "top_pos = w_count.argsort()[::-1][:10]\n",
    "for i in top_pos:\n",
    "    print(id_to_vocab[i])"
   ]
  },
  {
   "cell_type": "markdown",
   "metadata": {},
   "source": [
    "The words 'bad', 'worst', 'waste', etc are used to express the negative feelings of a movie. The words 'perfect', 'enjoy', 'excellent', etc are used to express the positive feelings of a movie. As a result, this model is quite excellent."
   ]
  },
  {
   "cell_type": "markdown",
   "metadata": {},
   "source": [
    "If we were to apply the classifier we've learned into a different domain such laptop reviews or restaurant reviews, do you think these features would generalise well? Can you propose what features the classifier could pick up as important in the new domain?"
   ]
  },
  {
   "cell_type": "markdown",
   "metadata": {},
   "source": [
    "ANS:\n",
    "No, the words used to express positive or negative feelings about a movie is different from those about a restaurant or laptop. For the restaurant reviews, words such as delicious, friendly, dirty, etc may be the features."
   ]
  },
  {
   "cell_type": "markdown",
   "metadata": {},
   "source": [
    "### Discuss how did you choose model hyperparameters (e.g. learning rate and regularisation strength)? What is the relation between training epochs and learning rate? How the regularisation strength affects performance?"
   ]
  },
  {
   "cell_type": "markdown",
   "metadata": {},
   "source": [
    "First, I create lists for learning rate, alpha, and epochs, each with four values. Then, use for loop to train the models and record the accuracy for each model if the final val loss is under 1. Last, pick up the model with the highest accuracy. The reason I use accuracy to choose the model is that both true positive and true negative are important in this model.Both of the positive reviews and negative reviews are important so the accuracy is what I need\n",
    "\n",
    "If learning rate is small, the epochs needs to be large enough since the weight only changes a little during each epoch. If the learning rate is large, the epochs can be smaller. However, a learning rate that is too large results in unstable training and a learning rate that is too small results in failed training.\n",
    "\n",
    "The larger the regularisation strength is, the bigger penalty term is. If the regularisation strength is near 0, the penalty term doesn't work, which means the model has a high possibility of overfitting."
   ]
  },
  {
   "cell_type": "markdown",
   "metadata": {},
   "source": [
    "## Train and Evaluate Logistic Regression with TF.IDF vectors\n",
    "\n",
    "Follow the same steps as above (i.e. evaluating count n-gram representations).\n"
   ]
  },
  {
   "cell_type": "markdown",
   "metadata": {},
   "source": [
    "### BOW-tfidf"
   ]
  },
  {
   "cell_type": "code",
   "execution_count": 33,
   "metadata": {},
   "outputs": [
    {
     "name": "stdout",
     "output_type": "stream",
     "text": [
      "max accuracy: 0.8421052631578947\n",
      "lr:  0.001\n",
      "alpha:  1e-06\n",
      "epochs:  30\n",
      "+--------------+--------------------+--------------------+--------------------+--------------------+\n",
      "|  lr = 1e-06  |   alpha = 1e-06    |   alpha = 1e-05    |   alpha = 0.0001   |   alpha = 0.001    |\n",
      "+--------------+--------------------+--------------------+--------------------+--------------------+\n",
      "| epochs = 30  | 0.6090225563909775 | 0.6090225563909775 | 0.6090225563909775 | 0.6090225563909775 |\n",
      "| epochs = 75  | 0.6265664160401002 | 0.6265664160401002 | 0.6265664160401002 | 0.6265664160401002 |\n",
      "| epochs = 120 | 0.6491228070175439 | 0.6491228070175439 | 0.6491228070175439 | 0.6491228070175439 |\n",
      "| epochs = 165 | 0.6691729323308271 | 0.6691729323308271 | 0.6691729323308271 | 0.6691729323308271 |\n",
      "+--------------+--------------------+--------------------+--------------------+--------------------+\n",
      "+--------------+--------------------+--------------------+--------------------+--------------------+\n",
      "|  lr = 1e-05  |   alpha = 1e-06    |   alpha = 1e-05    |   alpha = 0.0001   |   alpha = 0.001    |\n",
      "+--------------+--------------------+--------------------+--------------------+--------------------+\n",
      "| epochs = 30  | 0.7243107769423559 | 0.7243107769423559 | 0.7243107769423559 | 0.7243107769423559 |\n",
      "| epochs = 75  | 0.7694235588972431 | 0.7694235588972431 | 0.7694235588972431 | 0.7694235588972431 |\n",
      "| epochs = 120 | 0.7794486215538847 | 0.7794486215538847 | 0.7794486215538847 | 0.7794486215538847 |\n",
      "| epochs = 165 | 0.7894736842105263 | 0.7894736842105263 | 0.7894736842105263 | 0.7894736842105263 |\n",
      "+--------------+--------------------+--------------------+--------------------+--------------------+\n",
      "+--------------+--------------------+--------------------+--------------------+--------------------+\n",
      "| lr = 0.0001  |   alpha = 1e-06    |   alpha = 1e-05    |   alpha = 0.0001   |   alpha = 0.001    |\n",
      "+--------------+--------------------+--------------------+--------------------+--------------------+\n",
      "| epochs = 30  | 0.8020050125313283 | 0.8020050125313283 | 0.8020050125313283 | 0.8020050125313283 |\n",
      "| epochs = 75  | 0.8245614035087719 | 0.8245614035087719 | 0.8245614035087719 | 0.8245614035087719 |\n",
      "| epochs = 120 | 0.8370927318295739 | 0.8370927318295739 | 0.8370927318295739 | 0.8370927318295739 |\n",
      "| epochs = 165 | 0.8370927318295739 | 0.8370927318295739 | 0.8370927318295739 | 0.8370927318295739 |\n",
      "+--------------+--------------------+--------------------+--------------------+--------------------+\n",
      "+--------------+--------------------+--------------------+--------------------+--------------------+\n",
      "|  lr = 0.001  |   alpha = 1e-06    |   alpha = 1e-05    |   alpha = 0.0001   |   alpha = 0.001    |\n",
      "+--------------+--------------------+--------------------+--------------------+--------------------+\n",
      "| epochs = 30  | 0.8421052631578947 | 0.8421052631578947 | 0.8421052631578947 | 0.8421052631578947 |\n",
      "| epochs = 75  | 0.8421052631578947 | 0.8421052631578947 | 0.8421052631578947 | 0.8421052631578947 |\n",
      "| epochs = 120 | 0.8370927318295739 | 0.8370927318295739 | 0.8370927318295739 | 0.8370927318295739 |\n",
      "| epochs = 165 | 0.8421052631578947 | 0.8421052631578947 | 0.8421052631578947 | 0.8421052631578947 |\n",
      "+--------------+--------------------+--------------------+--------------------+--------------------+\n"
     ]
    }
   ],
   "source": [
    "if tune_params == 'Y':\n",
    "    acc_history = []\n",
    "    table_lr0 = PrettyTable([\"lr = {}\".format(lr[0]), \"alpha = {}\".format(alpha[0]), \"alpha = {}\".format(alpha[1])\n",
    "                , \"alpha = {}\".format(alpha[2]), \"alpha = {}\".format(alpha[3])])\n",
    "    table_lr1 = PrettyTable([\"lr = {}\".format(lr[1]), \"alpha = {}\".format(alpha[0]), \"alpha = {}\".format(alpha[1])\n",
    "                , \"alpha = {}\".format(alpha[2]), \"alpha = {}\".format(alpha[3])])\n",
    "    table_lr2 = PrettyTable([\"lr = {}\".format(lr[2]), \"alpha = {}\".format(alpha[0]), \"alpha = {}\".format(alpha[1])\n",
    "                , \"alpha = {}\".format(alpha[2]), \"alpha = {}\".format(alpha[3])])\n",
    "    table_lr3 = PrettyTable([\"lr = {}\".format(lr[3]), \"alpha = {}\".format(alpha[0]), \"alpha = {}\".format(alpha[1])\n",
    "                , \"alpha = {}\".format(alpha[2]), \"alpha = {}\".format(alpha[3])])\n",
    "    for i in range(len(lr)):\n",
    "        for j in range(len(alpha)):\n",
    "            for k in range(len(epochs)):\n",
    "                w_tfidf, t_tfidf, v_tfidf = SGD(train_tfidf, train_label, X_dev=development_tfidf, Y_dev=development_label, lr=lr[i], alpha=alpha[j], epochs=epochs[k])\n",
    "                preds_te_count = predict_class(test_tfidf, w_tfidf)\n",
    "                if v_tfidf[len(v_tfidf)-1] < 1:\n",
    "                    acc_history.append(accuracy_score(test_label,preds_te_count))\n",
    "                else:\n",
    "                    acc_history.append(0)\n",
    "        if i == 0:\n",
    "            table_lr0.add_row([\"epochs = {}\".format(epochs[0]), acc_history[i*16+0], acc_history[i*16+4], acc_history[i*16+8], acc_history[i*16+12]])\n",
    "            table_lr0.add_row([\"epochs = {}\".format(epochs[1]), acc_history[i*16+1], acc_history[i*16+5], acc_history[i*16+9], acc_history[i*16+13]])\n",
    "            table_lr0.add_row([\"epochs = {}\".format(epochs[2]), acc_history[i*16+2], acc_history[i*16+6], acc_history[i*16+10], acc_history[i*16+14]])\n",
    "            table_lr0.add_row([\"epochs = {}\".format(epochs[3]), acc_history[i*16+3], acc_history[i*16+7], acc_history[i*16+11], acc_history[i*16+15]])\n",
    "        if i == 1:\n",
    "            table_lr1.add_row([\"epochs = {}\".format(epochs[0]), acc_history[i*16+0], acc_history[i*16+4], acc_history[i*16+8], acc_history[i*16+12]])\n",
    "            table_lr1.add_row([\"epochs = {}\".format(epochs[1]), acc_history[i*16+1], acc_history[i*16+5], acc_history[i*16+9], acc_history[i*16+13]])\n",
    "            table_lr1.add_row([\"epochs = {}\".format(epochs[2]), acc_history[i*16+2], acc_history[i*16+6], acc_history[i*16+10], acc_history[i*16+14]])\n",
    "            table_lr1.add_row([\"epochs = {}\".format(epochs[3]), acc_history[i*16+3], acc_history[i*16+7], acc_history[i*16+11], acc_history[i*16+15]])\n",
    "        if i == 2:\n",
    "            table_lr2.add_row([\"epochs = {}\".format(epochs[0]), acc_history[i*16+0], acc_history[i*16+4], acc_history[i*16+8], acc_history[i*16+12]])\n",
    "            table_lr2.add_row([\"epochs = {}\".format(epochs[1]), acc_history[i*16+1], acc_history[i*16+5], acc_history[i*16+9], acc_history[i*16+13]])\n",
    "            table_lr2.add_row([\"epochs = {}\".format(epochs[2]), acc_history[i*16+2], acc_history[i*16+6], acc_history[i*16+10], acc_history[i*16+14]])\n",
    "            table_lr2.add_row([\"epochs = {}\".format(epochs[3]), acc_history[i*16+3], acc_history[i*16+7], acc_history[i*16+11], acc_history[i*16+15]])\n",
    "        if i == 3:\n",
    "            table_lr3.add_row([\"epochs = {}\".format(epochs[0]), acc_history[i*16+0], acc_history[i*16+4], acc_history[i*16+8], acc_history[i*16+12]])\n",
    "            table_lr3.add_row([\"epochs = {}\".format(epochs[1]), acc_history[i*16+1], acc_history[i*16+5], acc_history[i*16+9], acc_history[i*16+13]])\n",
    "            table_lr3.add_row([\"epochs = {}\".format(epochs[2]), acc_history[i*16+2], acc_history[i*16+6], acc_history[i*16+10], acc_history[i*16+14]])\n",
    "            table_lr3.add_row([\"epochs = {}\".format(epochs[3]), acc_history[i*16+3], acc_history[i*16+7], acc_history[i*16+11], acc_history[i*16+15]])\n",
    "    result = max(acc_history)\n",
    "    print('max accuracy:', result)\n",
    "    index_of_result = acc_history.index(result)\n",
    "    lr_index = (index_of_result)//16\n",
    "    alpha_index = (index_of_result%16)//4\n",
    "    epochs_index = (index_of_result%4)\n",
    "    print('lr: ', lr[lr_index])\n",
    "    print('alpha: ', alpha[alpha_index])\n",
    "    print('epochs: ', epochs[epochs_index])\n",
    "    print(table_lr0)\n",
    "    print(table_lr1)\n",
    "    print(table_lr2)\n",
    "    print(table_lr3)"
   ]
  },
  {
   "cell_type": "code",
   "execution_count": 34,
   "metadata": {},
   "outputs": [
    {
     "name": "stdout",
     "output_type": "stream",
     "text": [
      "train loss:  [0.5821423604447067, 0.5191824525351423, 0.4771485270391641, 0.4455105209681702, 0.4206253516438873, 0.4004119687788791, 0.3834264214319399, 0.36873649830226524, 0.3559369071707424, 0.34458945221997633, 0.33442878925625347, 0.3251911145364116, 0.31680218695582163, 0.30913201678853824, 0.30205401863364145, 0.29561387714164516, 0.289374353545951, 0.28366865282050013, 0.2783334226875282, 0.2731890999786553, 0.26847640662830324, 0.2642349730304086, 0.2598222304485384, 0.25554997408348923, 0.25167316304893955, 0.24800368139970355, 0.24449192831281358, 0.24118190275631513, 0.2378454268603819, 0.23487269208847114]\n",
      "------------------------------------------------\n",
      "val loss:  [0.6188721607708753, 0.5797247672149108, 0.5554238039052309, 0.5379952194868945, 0.5250780603283466, 0.5154174859931234, 0.5076522389648609, 0.5010153830232392, 0.4955418407020135, 0.4915979604982202, 0.4878159080322553, 0.4843017757290691, 0.48141259526981806, 0.47906874017566115, 0.47705445595394064, 0.47567849357640823, 0.4738620150442363, 0.4723020879546861, 0.4717916307729878, 0.47053285033939973, 0.47005192421152897, 0.4699817529210617, 0.4693524439525947, 0.46849659303745517, 0.4682221147447083, 0.46808057061172914, 0.46807520409825015, 0.4685228947778664, 0.46833299473138323, 0.46827970845677463]\n"
     ]
    }
   ],
   "source": [
    "if tune_params == 'Y':\n",
    "    w_tfidf, t_tfidf, v_tfidf = SGD(train_tfidf, train_label, X_dev=development_tfidf, Y_dev=development_label, \n",
    "                                lr=lr[lr_index], alpha=alpha[alpha_index], epochs=epochs[epochs_index], print_progress=True)\n",
    "else:\n",
    "    w_tfidf, t_tfidf, v_tfidf = SGD(train_tfidf, train_label, X_dev=development_tfidf, Y_dev=development_label, print_progress=True)"
   ]
  },
  {
   "cell_type": "code",
   "execution_count": 35,
   "metadata": {},
   "outputs": [
    {
     "data": {
      "text/plain": [
       "[<matplotlib.lines.Line2D at 0x1524b784550>]"
      ]
     },
     "execution_count": 35,
     "metadata": {},
     "output_type": "execute_result"
    },
    {
     "data": {
      "image/png": "[encoded data removed]",
      "text/plain": [
       "<Figure size 432x288 with 1 Axes>"
      ]
     },
     "metadata": {
      "needs_background": "light"
     },
     "output_type": "display_data"
    }
   ],
   "source": [
    "plt.plot(t_tfidf, 'r')\n",
    "plt.plot(v_tfidf, 'b')"
   ]
  },
  {
   "cell_type": "markdown",
   "metadata": {},
   "source": [
    "The final val loss is about 0.5, which is acceptable.\n",
    "The curve of val loss is descending without a trend of ascending. This means the model is neither overfitting nor underfitting."
   ]
  },
  {
   "cell_type": "code",
   "execution_count": 36,
   "metadata": {},
   "outputs": [
    {
     "name": "stdout",
     "output_type": "stream",
     "text": [
      "Accuracy: 0.8421052631578947\n",
      "Precision: 0.8333333333333334\n",
      "Recall: 0.8542713567839196\n",
      "F1-Score: 0.8436724565756824\n"
     ]
    }
   ],
   "source": [
    "preds_te_count = predict_class(test_tfidf, w_tfidf)\n",
    "print('Accuracy:', accuracy_score(test_label,preds_te_count))\n",
    "print('Precision:', precision_score(test_label,preds_te_count))\n",
    "print('Recall:', recall_score(test_label,preds_te_count))\n",
    "print('F1-Score:', f1_score(test_label,preds_te_count))"
   ]
  },
  {
   "cell_type": "code",
   "execution_count": 37,
   "metadata": {},
   "outputs": [
    {
     "name": "stdout",
     "output_type": "stream",
     "text": [
      "bad\n",
      "worst\n",
      "supposed\n",
      "boring\n",
      "waste\n",
      "ridiculous\n",
      "awful\n",
      "fails\n",
      "script\n",
      "filmmakers\n"
     ]
    }
   ],
   "source": [
    "top_neg = w_tfidf.argsort()[:10]\n",
    "for i in top_neg:\n",
    "    print(id_to_vocab[i])"
   ]
  },
  {
   "cell_type": "code",
   "execution_count": 38,
   "metadata": {},
   "outputs": [
    {
     "name": "stdout",
     "output_type": "stream",
     "text": [
      "perfect\n",
      "hilarious\n",
      "great\n",
      "excellent\n",
      "terrific\n",
      "memorable\n",
      "simple\n",
      "perfectly\n",
      "world\n",
      "enjoyed\n"
     ]
    }
   ],
   "source": [
    "top_pos = w_tfidf.argsort()[::-1][:10]\n",
    "for i in top_pos:\n",
    "    print(id_to_vocab[i])"
   ]
  },
  {
   "cell_type": "markdown",
   "metadata": {},
   "source": [
    "The words 'bad', 'worst', 'boring', etc are used to express the negative feelings of a movie. The words 'perfect', 'terrific', 'memorable', etc are used to express the positive feelings of a movie. As a result, this model is quite excellent."
   ]
  },
  {
   "cell_type": "markdown",
   "metadata": {},
   "source": [
    "### Now repeat the training and evaluation process for BOW-tfidf, BOCN-count, BOCN-tfidf, BOW+BOCN including hyperparameter tuning for each model..."
   ]
  },
  {
   "cell_type": "markdown",
   "metadata": {},
   "source": [
    "### BOCN-count"
   ]
  },
  {
   "cell_type": "code",
   "execution_count": 39,
   "metadata": {},
   "outputs": [],
   "source": [
    "vocab_bocn, df_bocn, tf_bocn = get_vocab(X_raw=train_content,min_df=55, keep_topN=75, char_ngrams=True)"
   ]
  },
  {
   "cell_type": "code",
   "execution_count": 40,
   "metadata": {},
   "outputs": [],
   "source": [
    "vocab_bocn_to_id = {}\n",
    "id_to_vocab_bocn = {}\n",
    "for word in vocab_bocn:\n",
    "    string = \" \".join(word)\n",
    "    vocab_bocn_to_id[string] = vocab_bocn.index(word)\n",
    "    id_to_vocab_bocn[vocab_bocn.index(word)] = string"
   ]
  },
  {
   "cell_type": "code",
   "execution_count": 41,
   "metadata": {},
   "outputs": [],
   "source": [
    "train_vec_bocn = vectorise(X_ngram=processed_train_content, vocab=vocab_bocn)\n",
    "development_vec_bocn = vectorise(X_ngram=processed_dev_content, vocab=vocab_bocn)\n",
    "test_vec_bocn = vectorise(X_ngram=processed_test_content, vocab=vocab_bocn)"
   ]
  },
  {
   "cell_type": "code",
   "execution_count": 42,
   "metadata": {},
   "outputs": [],
   "source": [
    "import math\n",
    "idf_bocn = {}\n",
    "for key, value in df_bocn.items():\n",
    "    idf_bocn[key] = math.log(len(train_content)/value,10)"
   ]
  },
  {
   "cell_type": "code",
   "execution_count": 43,
   "metadata": {},
   "outputs": [],
   "source": [
    "idf_bocn_list = list(idf_bocn.values())"
   ]
  },
  {
   "cell_type": "code",
   "execution_count": 44,
   "metadata": {},
   "outputs": [],
   "source": [
    "train_tfidf_bocn = compute_tfidf(idf_list=idf_bocn_list, vec=train_vec_bocn)\n",
    "development_tfidf_bocn = compute_tfidf(idf_list=idf_bocn_list, vec=development_vec_bocn)\n",
    "test_tfidf_bocn = compute_tfidf(idf_list=idf_bocn_list, vec=test_vec_bocn)"
   ]
  },
  {
   "cell_type": "code",
   "execution_count": 45,
   "metadata": {},
   "outputs": [
    {
     "name": "stderr",
     "output_type": "stream",
     "text": [
      "<ipython-input-24-1c73d9e9e108>:11: RuntimeWarning: divide by zero encountered in log\n",
      "  l_first = (np.dot(np.transpose(-Y), (np.log(y))) - np.dot(np.transpose(1-Y), (np.log(1-y))))/len(Y)\n"
     ]
    },
    {
     "name": "stdout",
     "output_type": "stream",
     "text": [
      "max accuracy: 0.7869674185463659\n",
      "lr:  1e-05\n",
      "alpha:  1e-06\n",
      "epochs:  120\n",
      "+--------------+--------------------+--------------------+--------------------+--------------------+\n",
      "|  lr = 1e-06  |   alpha = 1e-06    |   alpha = 1e-05    |   alpha = 0.0001   |   alpha = 0.001    |\n",
      "+--------------+--------------------+--------------------+--------------------+--------------------+\n",
      "| epochs = 30  | 0.7042606516290727 | 0.7042606516290727 | 0.7042606516290727 | 0.7042606516290727 |\n",
      "| epochs = 75  | 0.7268170426065163 | 0.7268170426065163 | 0.7268170426065163 | 0.7268170426065163 |\n",
      "| epochs = 120 | 0.7343358395989975 | 0.7343358395989975 | 0.7343358395989975 | 0.7343358395989975 |\n",
      "| epochs = 165 | 0.7418546365914787 | 0.7418546365914787 | 0.7418546365914787 | 0.7418546365914787 |\n",
      "+--------------+--------------------+--------------------+--------------------+--------------------+\n",
      "+--------------+--------------------+--------------------+--------------------+--------------------+\n",
      "|  lr = 1e-05  |   alpha = 1e-06    |   alpha = 1e-05    |   alpha = 0.0001   |   alpha = 0.001    |\n",
      "+--------------+--------------------+--------------------+--------------------+--------------------+\n",
      "| epochs = 30  | 0.7619047619047619 | 0.7619047619047619 | 0.7619047619047619 | 0.7619047619047619 |\n",
      "| epochs = 75  | 0.7644110275689223 | 0.7644110275689223 | 0.7644110275689223 | 0.7644110275689223 |\n",
      "| epochs = 120 | 0.7869674185463659 | 0.7869674185463659 | 0.7869674185463659 | 0.7869674185463659 |\n",
      "| epochs = 165 | 0.7719298245614035 | 0.7719298245614035 | 0.7719298245614035 | 0.7719298245614035 |\n",
      "+--------------+--------------------+--------------------+--------------------+--------------------+\n",
      "+--------------+--------------------+--------------------+--------------------+--------------------+\n",
      "| lr = 0.0001  |   alpha = 1e-06    |   alpha = 1e-05    |   alpha = 0.0001   |   alpha = 0.001    |\n",
      "+--------------+--------------------+--------------------+--------------------+--------------------+\n",
      "| epochs = 30  | 0.7619047619047619 | 0.7619047619047619 | 0.7619047619047619 | 0.7619047619047619 |\n",
      "| epochs = 75  | 0.7819548872180451 | 0.7819548872180451 | 0.7819548872180451 | 0.7819548872180451 |\n",
      "| epochs = 120 | 0.7744360902255639 | 0.7744360902255639 | 0.7744360902255639 | 0.7744360902255639 |\n",
      "| epochs = 165 | 0.7794486215538847 | 0.7794486215538847 | 0.7794486215538847 | 0.7794486215538847 |\n",
      "+--------------+--------------------+--------------------+--------------------+--------------------+\n",
      "+--------------+---------------+---------------+----------------+---------------+\n",
      "|  lr = 0.001  | alpha = 1e-06 | alpha = 1e-05 | alpha = 0.0001 | alpha = 0.001 |\n",
      "+--------------+---------------+---------------+----------------+---------------+\n",
      "| epochs = 30  |       0       |       0       |       0        |       0       |\n",
      "| epochs = 75  |       0       |       0       |       0        |       0       |\n",
      "| epochs = 120 |       0       |       0       |       0        |       0       |\n",
      "| epochs = 165 |       0       |       0       |       0        |       0       |\n",
      "+--------------+---------------+---------------+----------------+---------------+\n"
     ]
    }
   ],
   "source": [
    "if tune_params == 'Y':\n",
    "    acc_history = []\n",
    "    table_lr0 = PrettyTable([\"lr = {}\".format(lr[0]), \"alpha = {}\".format(alpha[0]), \"alpha = {}\".format(alpha[1])\n",
    "                , \"alpha = {}\".format(alpha[2]), \"alpha = {}\".format(alpha[3])])\n",
    "    table_lr1 = PrettyTable([\"lr = {}\".format(lr[1]), \"alpha = {}\".format(alpha[0]), \"alpha = {}\".format(alpha[1])\n",
    "                , \"alpha = {}\".format(alpha[2]), \"alpha = {}\".format(alpha[3])])\n",
    "    table_lr2 = PrettyTable([\"lr = {}\".format(lr[2]), \"alpha = {}\".format(alpha[0]), \"alpha = {}\".format(alpha[1])\n",
    "                , \"alpha = {}\".format(alpha[2]), \"alpha = {}\".format(alpha[3])])\n",
    "    table_lr3 = PrettyTable([\"lr = {}\".format(lr[3]), \"alpha = {}\".format(alpha[0]), \"alpha = {}\".format(alpha[1])\n",
    "                , \"alpha = {}\".format(alpha[2]), \"alpha = {}\".format(alpha[3])])\n",
    "    for i in range(len(lr)):\n",
    "        for j in range(len(alpha)):\n",
    "            for k in range(len(epochs)):\n",
    "                w_count_bocn, t_bocn, v_bocn = SGD(train_vec_bocn, train_label, X_dev=development_vec_bocn, Y_dev=development_label, lr=lr[i], alpha=alpha[j], epochs=epochs[k])\n",
    "                preds_te_count = predict_class(test_vec_bocn, w_count_bocn)\n",
    "                if v_bocn[len(v_bocn)-1] < 1:\n",
    "                    acc_history.append(accuracy_score(test_label,preds_te_count))\n",
    "                else:\n",
    "                    acc_history.append(0)\n",
    "        if i == 0:\n",
    "            table_lr0.add_row([\"epochs = {}\".format(epochs[0]), acc_history[i*16+0], acc_history[i*16+4], acc_history[i*16+8], acc_history[i*16+12]])\n",
    "            table_lr0.add_row([\"epochs = {}\".format(epochs[1]), acc_history[i*16+1], acc_history[i*16+5], acc_history[i*16+9], acc_history[i*16+13]])\n",
    "            table_lr0.add_row([\"epochs = {}\".format(epochs[2]), acc_history[i*16+2], acc_history[i*16+6], acc_history[i*16+10], acc_history[i*16+14]])\n",
    "            table_lr0.add_row([\"epochs = {}\".format(epochs[3]), acc_history[i*16+3], acc_history[i*16+7], acc_history[i*16+11], acc_history[i*16+15]])\n",
    "        if i == 1:\n",
    "            table_lr1.add_row([\"epochs = {}\".format(epochs[0]), acc_history[i*16+0], acc_history[i*16+4], acc_history[i*16+8], acc_history[i*16+12]])\n",
    "            table_lr1.add_row([\"epochs = {}\".format(epochs[1]), acc_history[i*16+1], acc_history[i*16+5], acc_history[i*16+9], acc_history[i*16+13]])\n",
    "            table_lr1.add_row([\"epochs = {}\".format(epochs[2]), acc_history[i*16+2], acc_history[i*16+6], acc_history[i*16+10], acc_history[i*16+14]])\n",
    "            table_lr1.add_row([\"epochs = {}\".format(epochs[3]), acc_history[i*16+3], acc_history[i*16+7], acc_history[i*16+11], acc_history[i*16+15]])\n",
    "        if i == 2:\n",
    "            table_lr2.add_row([\"epochs = {}\".format(epochs[0]), acc_history[i*16+0], acc_history[i*16+4], acc_history[i*16+8], acc_history[i*16+12]])\n",
    "            table_lr2.add_row([\"epochs = {}\".format(epochs[1]), acc_history[i*16+1], acc_history[i*16+5], acc_history[i*16+9], acc_history[i*16+13]])\n",
    "            table_lr2.add_row([\"epochs = {}\".format(epochs[2]), acc_history[i*16+2], acc_history[i*16+6], acc_history[i*16+10], acc_history[i*16+14]])\n",
    "            table_lr2.add_row([\"epochs = {}\".format(epochs[3]), acc_history[i*16+3], acc_history[i*16+7], acc_history[i*16+11], acc_history[i*16+15]])\n",
    "        if i == 3:\n",
    "            table_lr3.add_row([\"epochs = {}\".format(epochs[0]), acc_history[i*16+0], acc_history[i*16+4], acc_history[i*16+8], acc_history[i*16+12]])\n",
    "            table_lr3.add_row([\"epochs = {}\".format(epochs[1]), acc_history[i*16+1], acc_history[i*16+5], acc_history[i*16+9], acc_history[i*16+13]])\n",
    "            table_lr3.add_row([\"epochs = {}\".format(epochs[2]), acc_history[i*16+2], acc_history[i*16+6], acc_history[i*16+10], acc_history[i*16+14]])\n",
    "            table_lr3.add_row([\"epochs = {}\".format(epochs[3]), acc_history[i*16+3], acc_history[i*16+7], acc_history[i*16+11], acc_history[i*16+15]])\n",
    "    result = max(acc_history)\n",
    "    print('max accuracy:', result)\n",
    "    index_of_result = acc_history.index(result)\n",
    "    lr_index = (index_of_result)//16\n",
    "    alpha_index = (index_of_result%16)//4\n",
    "    epochs_index = (index_of_result%4)\n",
    "    print('lr: ', lr[lr_index])\n",
    "    print('alpha: ', alpha[alpha_index])\n",
    "    print('epochs: ', epochs[epochs_index])\n",
    "    print(table_lr0)\n",
    "    print(table_lr1)\n",
    "    print(table_lr2)\n",
    "    print(table_lr3)"
   ]
  },
  {
   "cell_type": "code",
   "execution_count": 46,
   "metadata": {},
   "outputs": [
    {
     "name": "stdout",
     "output_type": "stream",
     "text": [
      "train loss:  [0.6586678865543996, 0.6409576538108084, 0.614961752041814, 0.6099612622626234, 0.6050659590053403, 0.5941109401285373, 0.5721538260755585, 0.6165177248681937, 0.566789992670101, 0.551701504992079, 0.5748317519206638, 0.5565582981160806, 0.5505612337997011, 0.5310324752930027, 0.53272522450547, 0.5204643130489307, 0.5195529458636964, 0.51419421594282, 0.5115296745251963, 0.5053134249491735, 0.5402928891318021, 0.49891279946082934, 0.49711488254886027, 0.502233472414653, 0.4900059660727521, 0.5120546353977561, 0.4915674117822513, 0.48343438281031853, 0.48589857812322446, 0.4792423396467732, 0.47528670720434685, 0.47420522320685415, 0.4820408484794968, 0.470250683620504, 0.4672661452776422, 0.46446897579310625, 0.4673847070834981, 0.4667535314683005, 0.467561051568702, 0.4649346457598132, 0.454931236776774, 0.5024440397583462, 0.4513051951032547, 0.4502441373159806, 0.48183475374283263, 0.4504327395814808, 0.44976175360269477, 0.44327001845302216, 0.442759881454071, 0.4403215693650024, 0.44504379969436436, 0.4373524344368781, 0.441704384847751, 0.4358514294652173, 0.44804104836844005, 0.4325045373689771, 0.4332877341623857, 0.43271257777239186, 0.43039211909913067, 0.43396754086869743, 0.43729111473110205, 0.4471386963229371, 0.4245352911182315, 0.42215034445914884, 0.4335283508617555, 0.4289956851403873, 0.41871614183971523, 0.45475305935271004, 0.47479137679037814, 0.41566503750319544, 0.4882471680918078, 0.415616579934175, 0.4186650199065944, 0.4140433205609044, 0.42038234010861414, 0.4240694965913989, 0.4082672370312182, 0.40842830011226644, 0.4112514920971855, 0.4308078249068538, 0.4054237346492821, 0.4492079719122969, 0.43234459224708893, 0.44569085198769653, 0.4552294425822614, 0.4008497611844382, 0.523012167005965, 0.400008128092228, 0.42425204705396574, 0.39842318441221153, 0.39858988199588863, 0.427336685833453, 0.3975197023070988, 0.39413233343636006, 0.41691435222691625, 0.4162229173617541, 0.4355669985262978, 0.3939794161562867, 0.4064426592225231, 0.39857387675386063, 0.3881398230619971, 0.39175427397123713, 0.38673640214372396, 0.38618665214238396, 0.38816938541191814, 0.38707579138856324, 0.3836651704398538, 0.3835630201946036, 0.3917725652755658, 0.3875150550478987, 0.386728040952225, 0.3864741490655812, 0.39582918463982825, 0.38748144402856965, 0.37843766444870525, 0.3977754783161362, 0.3842851247062608, 0.38855089407022847, 0.37564006095844893, 0.3827835770353082]\n",
      "------------------------------------------------\n",
      "val loss:  [0.6646190952775195, 0.6515164237119583, 0.6307041686231704, 0.6290891399532217, 0.6304929937438217, 0.6208362201901493, 0.6062444170816965, 0.6532380880951432, 0.6076443315501273, 0.5952794587036999, 0.6214650604181211, 0.6058508126194757, 0.603216357346822, 0.585261201323867, 0.5887177528803663, 0.5808810542019617, 0.5821067381452095, 0.5803643727668861, 0.5792202932015043, 0.5750700778728969, 0.6067241270954076, 0.5734240064814479, 0.5731812014577775, 0.5788889593215684, 0.5702795895473923, 0.5942650144295636, 0.575586184915815, 0.5682417877849514, 0.5729535307322632, 0.5665330339293609, 0.5648816352525249, 0.565728819352655, 0.5734811611450534, 0.5637307546993011, 0.5625354452585436, 0.5612171070758918, 0.5654758990706145, 0.5660467088043534, 0.568534316494792, 0.567129510322393, 0.5581626460412947, 0.6054834471321324, 0.5571520210293404, 0.5574841105009477, 0.5881551786526648, 0.5593991499554652, 0.55982085780667, 0.5543880305121868, 0.555215543161526, 0.5542724914693433, 0.5604764955699588, 0.5538891676154909, 0.5590934597558103, 0.5533107832119936, 0.5675548942315566, 0.5529064705236083, 0.5535728455377483, 0.5551658485372193, 0.5531444665462881, 0.557626520310379, 0.5616811767825285, 0.5743757399797584, 0.5506456390639086, 0.5497432568158498, 0.56021882603543, 0.5567017969301012, 0.5488547664754305, 0.5869790558386544, 0.6078032369244792, 0.547958688839032, 0.6185083557120051, 0.5492854549661711, 0.5527013637788553, 0.5508535978179011, 0.5590693119843488, 0.5597762255537369, 0.5467737896377398, 0.5476068878707552, 0.5529385174965005, 0.5743653265481432, 0.5475260114039677, 0.5891202929617728, 0.5730648234825999, 0.5869077387766829, 0.5963772232131564, 0.5452768190984316, 0.6711398438829281, 0.547205796980679, 0.5684815026735099, 0.5470732844879539, 0.5483382021826207, 0.5732655719518658, 0.5461333889455267, 0.545293420113468, 0.5655172381851292, 0.5715590750697115, 0.592462876258665, 0.5493970986111696, 0.5641828078244441, 0.5561130960362227, 0.5433518738453489, 0.5496189274925894, 0.5430905017600167, 0.5426923052617778, 0.5445602279955098, 0.5469789338852911, 0.5427898498534715, 0.5422870021821604, 0.5545544372310017, 0.5462603520675879, 0.5464709817664191, 0.5515259389040469, 0.563102630422833, 0.5542860754539947, 0.5432375430079339, 0.5591488820772587, 0.552380688319582, 0.5579625570453565, 0.5418069212066783, 0.5469521512025083]\n"
     ]
    }
   ],
   "source": [
    "if tune_params == 'Y':\n",
    "    w_count_bocn, t_bocn, v_bocn = SGD(train_vec_bocn, train_label, X_dev=development_vec_bocn, Y_dev=development_label,\n",
    "                                      lr=lr[lr_index], alpha=alpha[alpha_index], epochs=epochs[epochs_index], print_progress=True)\n",
    "else:\n",
    "    w_count_bocn, t_bocn, v_bocn = SGD(train_vec_bocn, train_label, X_dev=development_vec_bocn, Y_dev=development_label, print_progress=True)        "
   ]
  },
  {
   "cell_type": "code",
   "execution_count": 47,
   "metadata": {},
   "outputs": [
    {
     "data": {
      "text/plain": [
       "[<matplotlib.lines.Line2D at 0x1520325f790>]"
      ]
     },
     "execution_count": 47,
     "metadata": {},
     "output_type": "execute_result"
    },
    {
     "data": {
      "image/png": "[encoded data removed]",
      "text/plain": [
       "<Figure size 432x288 with 1 Axes>"
      ]
     },
     "metadata": {
      "needs_background": "light"
     },
     "output_type": "display_data"
    }
   ],
   "source": [
    "plt.plot(t_bocn, 'r')\n",
    "plt.plot(v_bocn, 'b')"
   ]
  },
  {
   "cell_type": "markdown",
   "metadata": {},
   "source": [
    "This is a unstable training, which means the learning rate may be too large for this model. However, the final val loss and accuracy are still acceptable."
   ]
  },
  {
   "cell_type": "code",
   "execution_count": 48,
   "metadata": {},
   "outputs": [
    {
     "name": "stdout",
     "output_type": "stream",
     "text": [
      "Accuracy: 0.7869674185463659\n",
      "Precision: 0.7821782178217822\n",
      "Recall: 0.7939698492462312\n",
      "F1-Score: 0.7880299251870324\n"
     ]
    }
   ],
   "source": [
    "preds_te_count_bocn = predict_class(test_vec_bocn, w_count_bocn)\n",
    "print('Accuracy:', accuracy_score(test_label,preds_te_count_bocn))\n",
    "print('Precision:', precision_score(test_label,preds_te_count_bocn))\n",
    "print('Recall:', recall_score(test_label,preds_te_count_bocn))\n",
    "print('F1-Score:', f1_score(test_label,preds_te_count_bocn))"
   ]
  },
  {
   "cell_type": "code",
   "execution_count": 49,
   "metadata": {},
   "outputs": [
    {
     "name": "stdout",
     "output_type": "stream",
     "text": [
      "bad\n",
      "rs\n",
      "ad\n",
      "te\n",
      "ors\n",
      "ba\n",
      "p\n",
      "st\n",
      "gu\n",
      "gi\n"
     ]
    }
   ],
   "source": [
    "top_neg = w_count_bocn.argsort()[:10]\n",
    "for i in top_neg:\n",
    "    print(id_to_vocab_bocn[i])"
   ]
  },
  {
   "cell_type": "code",
   "execution_count": 50,
   "metadata": {},
   "outputs": [
    {
     "name": "stdout",
     "output_type": "stream",
     "text": [
      "li\n",
      "per\n",
      "rf\n",
      "erf\n",
      "od\n",
      "fu\n",
      "gr\n",
      "gre\n",
      "is\n",
      "la\n"
     ]
    }
   ],
   "source": [
    "top_pos = w_count_bocn.argsort()[::-1][:10]\n",
    "for i in top_pos:\n",
    "    print(id_to_vocab_bocn[i])"
   ]
  },
  {
   "cell_type": "markdown",
   "metadata": {},
   "source": [
    "Here we get 'bad' for the negative reviews. Also, 'per', 'gre', 'erf', seems like 'perfect' and 'great' in positive reviews. Thus, this model is also reasonable."
   ]
  },
  {
   "cell_type": "markdown",
   "metadata": {},
   "source": [
    "### BOCN-tfidf"
   ]
  },
  {
   "cell_type": "code",
   "execution_count": 51,
   "metadata": {},
   "outputs": [
    {
     "name": "stdout",
     "output_type": "stream",
     "text": [
      "max accuracy: 0.8345864661654135\n",
      "lr:  0.0001\n",
      "alpha:  1e-06\n",
      "epochs:  165\n",
      "+--------------+--------------------+--------------------+--------------------+--------------------+\n",
      "|  lr = 1e-06  |   alpha = 1e-06    |   alpha = 1e-05    |   alpha = 0.0001   |   alpha = 0.001    |\n",
      "+--------------+--------------------+--------------------+--------------------+--------------------+\n",
      "| epochs = 30  | 0.5639097744360902 | 0.5639097744360902 | 0.5639097744360902 | 0.5639097744360902 |\n",
      "| epochs = 75  | 0.5839598997493735 | 0.5839598997493735 | 0.5839598997493735 | 0.5839598997493735 |\n",
      "| epochs = 120 | 0.6290726817042607 | 0.6290726817042607 | 0.6290726817042607 | 0.6290726817042607 |\n",
      "| epochs = 165 | 0.6466165413533834 | 0.6466165413533834 | 0.6466165413533834 | 0.6466165413533834 |\n",
      "+--------------+--------------------+--------------------+--------------------+--------------------+\n",
      "+--------------+--------------------+--------------------+--------------------+--------------------+\n",
      "|  lr = 1e-05  |   alpha = 1e-06    |   alpha = 1e-05    |   alpha = 0.0001   |   alpha = 0.001    |\n",
      "+--------------+--------------------+--------------------+--------------------+--------------------+\n",
      "| epochs = 30  | 0.6967418546365914 | 0.6967418546365914 | 0.6967418546365914 | 0.6967418546365914 |\n",
      "| epochs = 75  | 0.7619047619047619 | 0.7619047619047619 | 0.7619047619047619 | 0.7619047619047619 |\n",
      "| epochs = 120 | 0.7794486215538847 | 0.7794486215538847 | 0.7794486215538847 | 0.7794486215538847 |\n",
      "| epochs = 165 | 0.7769423558897243 | 0.7769423558897243 | 0.7769423558897243 | 0.7769423558897243 |\n",
      "+--------------+--------------------+--------------------+--------------------+--------------------+\n",
      "+--------------+--------------------+--------------------+--------------------+--------------------+\n",
      "| lr = 0.0001  |   alpha = 1e-06    |   alpha = 1e-05    |   alpha = 0.0001   |   alpha = 0.001    |\n",
      "+--------------+--------------------+--------------------+--------------------+--------------------+\n",
      "| epochs = 30  | 0.7969924812030075 | 0.7969924812030075 | 0.7969924812030075 | 0.7969924812030075 |\n",
      "| epochs = 75  | 0.8145363408521303 | 0.8145363408521303 | 0.8145363408521303 | 0.8145363408521303 |\n",
      "| epochs = 120 | 0.8295739348370927 | 0.8295739348370927 | 0.8295739348370927 | 0.8295739348370927 |\n",
      "| epochs = 165 | 0.8345864661654135 | 0.8345864661654135 | 0.8345864661654135 | 0.8345864661654135 |\n",
      "+--------------+--------------------+--------------------+--------------------+--------------------+\n",
      "+--------------+--------------------+--------------------+--------------------+--------------------+\n",
      "|  lr = 0.001  |   alpha = 1e-06    |   alpha = 1e-05    |   alpha = 0.0001   |   alpha = 0.001    |\n",
      "+--------------+--------------------+--------------------+--------------------+--------------------+\n",
      "| epochs = 30  | 0.8320802005012531 | 0.8320802005012531 | 0.8320802005012531 | 0.8320802005012531 |\n",
      "| epochs = 75  | 0.8195488721804511 | 0.8195488721804511 | 0.8195488721804511 | 0.8195488721804511 |\n",
      "| epochs = 120 | 0.8170426065162907 | 0.8170426065162907 | 0.8170426065162907 | 0.8170426065162907 |\n",
      "| epochs = 165 | 0.8270676691729323 | 0.8270676691729323 | 0.8270676691729323 | 0.8270676691729323 |\n",
      "+--------------+--------------------+--------------------+--------------------+--------------------+\n"
     ]
    }
   ],
   "source": [
    "if tune_params == 'Y':\n",
    "    acc_history = []\n",
    "    table_lr0 = PrettyTable([\"lr = {}\".format(lr[0]), \"alpha = {}\".format(alpha[0]), \"alpha = {}\".format(alpha[1])\n",
    "                , \"alpha = {}\".format(alpha[2]), \"alpha = {}\".format(alpha[3])])\n",
    "    table_lr1 = PrettyTable([\"lr = {}\".format(lr[1]), \"alpha = {}\".format(alpha[0]), \"alpha = {}\".format(alpha[1])\n",
    "                , \"alpha = {}\".format(alpha[2]), \"alpha = {}\".format(alpha[3])])\n",
    "    table_lr2 = PrettyTable([\"lr = {}\".format(lr[2]), \"alpha = {}\".format(alpha[0]), \"alpha = {}\".format(alpha[1])\n",
    "                , \"alpha = {}\".format(alpha[2]), \"alpha = {}\".format(alpha[3])])\n",
    "    table_lr3 = PrettyTable([\"lr = {}\".format(lr[3]), \"alpha = {}\".format(alpha[0]), \"alpha = {}\".format(alpha[1])\n",
    "                , \"alpha = {}\".format(alpha[2]), \"alpha = {}\".format(alpha[3])])\n",
    "    for i in range(len(lr)):\n",
    "        for j in range(len(alpha)):\n",
    "            for k in range(len(epochs)):\n",
    "                w_tfidf_bocn, t_tfidf_bocn, v_tfidf_bocn = SGD(train_tfidf_bocn, train_label, X_dev=development_tfidf_bocn, Y_dev=development_label, lr=lr[i], alpha=alpha[j], epochs=epochs[k])\n",
    "                preds_te_count = predict_class(test_tfidf_bocn, w_tfidf_bocn)\n",
    "                if v_tfidf_bocn[len(v_tfidf_bocn)-1] < 1:\n",
    "                    acc_history.append(accuracy_score(test_label,preds_te_count))\n",
    "                else:\n",
    "                    acc_history.append(0)\n",
    "        if i == 0:\n",
    "            table_lr0.add_row([\"epochs = {}\".format(epochs[0]), acc_history[i*16+0], acc_history[i*16+4], acc_history[i*16+8], acc_history[i*16+12]])\n",
    "            table_lr0.add_row([\"epochs = {}\".format(epochs[1]), acc_history[i*16+1], acc_history[i*16+5], acc_history[i*16+9], acc_history[i*16+13]])\n",
    "            table_lr0.add_row([\"epochs = {}\".format(epochs[2]), acc_history[i*16+2], acc_history[i*16+6], acc_history[i*16+10], acc_history[i*16+14]])\n",
    "            table_lr0.add_row([\"epochs = {}\".format(epochs[3]), acc_history[i*16+3], acc_history[i*16+7], acc_history[i*16+11], acc_history[i*16+15]])\n",
    "        if i == 1:\n",
    "            table_lr1.add_row([\"epochs = {}\".format(epochs[0]), acc_history[i*16+0], acc_history[i*16+4], acc_history[i*16+8], acc_history[i*16+12]])\n",
    "            table_lr1.add_row([\"epochs = {}\".format(epochs[1]), acc_history[i*16+1], acc_history[i*16+5], acc_history[i*16+9], acc_history[i*16+13]])\n",
    "            table_lr1.add_row([\"epochs = {}\".format(epochs[2]), acc_history[i*16+2], acc_history[i*16+6], acc_history[i*16+10], acc_history[i*16+14]])\n",
    "            table_lr1.add_row([\"epochs = {}\".format(epochs[3]), acc_history[i*16+3], acc_history[i*16+7], acc_history[i*16+11], acc_history[i*16+15]])\n",
    "        if i == 2:\n",
    "            table_lr2.add_row([\"epochs = {}\".format(epochs[0]), acc_history[i*16+0], acc_history[i*16+4], acc_history[i*16+8], acc_history[i*16+12]])\n",
    "            table_lr2.add_row([\"epochs = {}\".format(epochs[1]), acc_history[i*16+1], acc_history[i*16+5], acc_history[i*16+9], acc_history[i*16+13]])\n",
    "            table_lr2.add_row([\"epochs = {}\".format(epochs[2]), acc_history[i*16+2], acc_history[i*16+6], acc_history[i*16+10], acc_history[i*16+14]])\n",
    "            table_lr2.add_row([\"epochs = {}\".format(epochs[3]), acc_history[i*16+3], acc_history[i*16+7], acc_history[i*16+11], acc_history[i*16+15]])\n",
    "        if i == 3:\n",
    "            table_lr3.add_row([\"epochs = {}\".format(epochs[0]), acc_history[i*16+0], acc_history[i*16+4], acc_history[i*16+8], acc_history[i*16+12]])\n",
    "            table_lr3.add_row([\"epochs = {}\".format(epochs[1]), acc_history[i*16+1], acc_history[i*16+5], acc_history[i*16+9], acc_history[i*16+13]])\n",
    "            table_lr3.add_row([\"epochs = {}\".format(epochs[2]), acc_history[i*16+2], acc_history[i*16+6], acc_history[i*16+10], acc_history[i*16+14]])\n",
    "            table_lr3.add_row([\"epochs = {}\".format(epochs[3]), acc_history[i*16+3], acc_history[i*16+7], acc_history[i*16+11], acc_history[i*16+15]])\n",
    "    result = max(acc_history)\n",
    "    print('max accuracy:', result)\n",
    "    index_of_result = acc_history.index(result)\n",
    "    lr_index = (index_of_result)//16\n",
    "    alpha_index = (index_of_result%16)//4\n",
    "    epochs_index = (index_of_result%4)\n",
    "    print('lr: ', lr[lr_index])\n",
    "    print('alpha: ', alpha[alpha_index])\n",
    "    print('epochs: ', epochs[epochs_index])\n",
    "    print(table_lr0)\n",
    "    print(table_lr1)\n",
    "    print(table_lr2)\n",
    "    print(table_lr3)"
   ]
  },
  {
   "cell_type": "code",
   "execution_count": 52,
   "metadata": {},
   "outputs": [
    {
     "name": "stdout",
     "output_type": "stream",
     "text": [
      "train loss:  [0.681458442528966, 0.6711049079825542, 0.6615120432983105, 0.6525627309449156, 0.644122907984897, 0.6361412955962436, 0.628572718914092, 0.6213843236872093, 0.6145407854238141, 0.6080267079756276, 0.6018109413717951, 0.5958745143890353, 0.5901966065070277, 0.5847585483407477, 0.5795432190294567, 0.5745344793852059, 0.5697189752673516, 0.565080162874092, 0.5606187557619792, 0.5563127654729154, 0.5521559545579795, 0.5481459773742027, 0.5442693642569337, 0.5405060459593192, 0.536866882725984, 0.5333422719183369, 0.529922478049714, 0.5266035268968914, 0.5233796612711548, 0.520242842405782, 0.5171968429622555, 0.5142292337685429, 0.511340007973965, 0.5085263546740816, 0.5057828769010678, 0.5031063165920482, 0.5004938093366652, 0.49794630533921563, 0.49545441537364154, 0.49302266495941144, 0.4906438404704505, 0.4883188390709106, 0.48604404691858927, 0.4838176166001264, 0.4816382148925806, 0.4795036303255345, 0.4774131552726171, 0.47536227280423987, 0.47335248372816224, 0.4713823178914615, 0.46944905402040366, 0.46755205507576697, 0.4656904636909933, 0.46386093124806826, 0.46206556787016134, 0.4603020821597286, 0.4585683813426348, 0.45686612889525485, 0.45519037012553737, 0.4535436447033751, 0.4519233514766584, 0.45032983360154566, 0.4487620742249391, 0.4472185157354583, 0.44569938695979, 0.4442039595563238, 0.4427313739348888, 0.4412817323570726, 0.4398547969818796, 0.4384443659759084, 0.43705789324511063, 0.43568969054389395, 0.4343406451558378, 0.4330113544204128, 0.4317012271780796, 0.43040746331129986, 0.42913215384112785, 0.42787347806891274, 0.42663184706678897, 0.42540665301000197, 0.4241974885355095, 0.4230034818452375, 0.4218249995380631, 0.4206611680598982, 0.41951192346831434, 0.4183774283275817, 0.41725548066532736, 0.41614705631896093, 0.41505260515194037, 0.41397107167391967, 0.41290220911176456, 0.41184532914874816, 0.410800563860188, 0.40976822991741657, 0.4087474451731889, 0.4077377787990035, 0.40673954357197667, 0.40575214917273994, 0.4047762866235605, 0.4038098039326749, 0.40285409552400153, 0.40190851308442477, 0.40097290654278595, 0.4000470420812517, 0.3991308510580404, 0.39822424970235565, 0.39732645917357484, 0.39643813771853165, 0.39555824062776607, 0.39468711835766285, 0.39382493714226907, 0.3929709331585915, 0.39212509736093937, 0.3912877235890065, 0.3904577642661508, 0.38963598928256304, 0.3888218881635632, 0.3880153516317313, 0.38721634663881627, 0.3864245605211805, 0.3856400489538874, 0.3848627782031098, 0.3840921972391298, 0.38332839915448, 0.38257170556022435, 0.3818213429678281, 0.3810776531376982, 0.3803402298463152, 0.3796092159310637, 0.37888414007629867, 0.37816550047926056, 0.37745303985274864, 0.37674628154433365, 0.37604543659643147, 0.3753503001473401, 0.3746610223936662, 0.37397718044086264, 0.3732988710326554, 0.37262634468975486, 0.37195849276196535, 0.37129645505368986, 0.37063909331930034, 0.3699871900393843, 0.36934039307421657, 0.3686985165117873, 0.36806174375174505, 0.36742968004665083, 0.36680237768847374, 0.36617986723157886, 0.3655619026241726, 0.36494855642306234, 0.3643396608462779, 0.36373507088954443, 0.3631349933908765, 0.36253943638312935, 0.3619482079772649, 0.3613608998697336, 0.36077790821619365, 0.3601990116875522, 0.35962466052003095, 0.359053430026595, 0.358486647475162, 0.35792376429268796, 0.35736450114704477, 0.3568093340000903]\n",
      "------------------------------------------------\n",
      "val loss:  [0.6834083006124824, 0.6749253367257749, 0.6671082381026187, 0.6598886073269211, 0.6531256342898885, 0.6467613922060683, 0.6407537677160425, 0.6350796513195082, 0.6297252824367883, 0.6246415755543845, 0.6198212468768168, 0.6152519484926106, 0.6109068374732151, 0.606769163506183, 0.6028226455488358, 0.5990621161233635, 0.5954725839086251, 0.5920423302567313, 0.5887641594929917, 0.5856235145600309, 0.5826144367095336, 0.5797337670445599, 0.5769702187859095, 0.5743058831012909, 0.5717468475493378, 0.5692886489693283, 0.5669232948019062, 0.564648146696283, 0.5624519070925708, 0.5603219185436017, 0.5582736936873525, 0.5562944039229171, 0.5543912888424071, 0.5525356710585876, 0.5507455977608238, 0.5490151090362343, 0.547338130092621, 0.5457111633585945, 0.544142263380822, 0.542614726742417, 0.5411345578357055, 0.5397000740791217, 0.538301690284257, 0.5369402535976249, 0.5356184903231817, 0.5343382479616104, 0.5331034181981584, 0.5318835355794476, 0.5307049658824505, 0.5295460575735462, 0.5284364591313824, 0.527350841440798, 0.526295110911051, 0.5252347666088922, 0.5242354301408176, 0.5232557342265556, 0.522277476503812, 0.5213571655878169, 0.5204294942183693, 0.5195351303395905, 0.5186487580699454, 0.5177851928071755, 0.5169441390231758, 0.5161348002812944, 0.5153366917407438, 0.5145590679931507, 0.5138069517423969, 0.513070454989694, 0.5123554910549195, 0.5116172100288376, 0.5109313915382705, 0.5102051164043659, 0.5095520615864637, 0.5089021281744496, 0.5082683440929373, 0.50762855533666, 0.5069944024424939, 0.506391761467474, 0.5058064127878441, 0.5052124375928554, 0.5046400426998101, 0.5040870476421235, 0.5035399356042609, 0.5030072889009319, 0.502483878030043, 0.5019802342616816, 0.501464434047776, 0.5009501489959505, 0.500451635728508, 0.49996624629507763, 0.49952470017075196, 0.4990386457004219, 0.49858905457417246, 0.49814335382703256, 0.49769025013979756, 0.49727344042757937, 0.49685940340899454, 0.49643435307668515, 0.49604597318790855, 0.4956272518484385, 0.4952310552343427, 0.4948348898347804, 0.49446689544380934, 0.4940835542476692, 0.49371231465619675, 0.493341863478258, 0.4929927532846747, 0.49262676856791626, 0.49230393362987135, 0.4919664380125923, 0.4916362400720357, 0.49130433530895623, 0.4909830844912481, 0.4906828736985571, 0.4903588146016524, 0.49004258735734163, 0.4897473433229131, 0.48944600891885376, 0.4891461701309081, 0.4888606870027838, 0.4885927868264016, 0.4883143722679472, 0.48804309471357504, 0.48776159722220563, 0.48748086004791796, 0.48722937914607634, 0.48696240503368515, 0.48672476405919074, 0.4864562399222419, 0.48622200265885607, 0.4859799665972549, 0.48575166410492293, 0.4855107743577757, 0.4852695736559774, 0.4850457457621577, 0.4848134166152787, 0.48460901571695836, 0.48438587463237454, 0.484188533265841, 0.48396169811445766, 0.4837728067992811, 0.483542050324524, 0.48333955152478425, 0.4831417835478862, 0.48294110225371767, 0.48274009898553005, 0.4825548166746792, 0.48237473535466246, 0.4821893645886932, 0.48201657447341206, 0.48184143454580197, 0.48166230302597834, 0.4814773883390656, 0.4813199553035722, 0.4811599299338769, 0.4809929637288825, 0.48082184126599675, 0.48065125476693527, 0.48048696214816866, 0.4803101774199123, 0.4801739858066424, 0.4800121933321794, 0.4798638975642629, 0.4797356991470545, 0.47957865383553094]\n"
     ]
    }
   ],
   "source": [
    "if tune_params == 'Y':\n",
    "    w_tfidf_bocn, t_tfidf_bocn, v_tfidf_bocn = SGD(train_tfidf_bocn, train_label, X_dev=development_tfidf_bocn,\n",
    "                                                   Y_dev=development_label,lr=lr[lr_index], alpha=alpha[alpha_index],\n",
    "                                                   epochs=epochs[epochs_index], print_progress=True)\n",
    "else:\n",
    "    w_tfidf_bocn, t_tfidf_bocn, v_tfidf_bocn = SGD(train_tfidf_bocn, train_label,\n",
    "                                                   X_dev=development_tfidf_bocn, Y_dev=development_label,print_progress=True)"
   ]
  },
  {
   "cell_type": "code",
   "execution_count": 53,
   "metadata": {},
   "outputs": [
    {
     "data": {
      "text/plain": [
       "[<matplotlib.lines.Line2D at 0x152032db0a0>]"
      ]
     },
     "execution_count": 53,
     "metadata": {},
     "output_type": "execute_result"
    },
    {
     "data": {
      "image/png": "[encoded data removed]",
      "text/plain": [
       "<Figure size 432x288 with 1 Axes>"
      ]
     },
     "metadata": {
      "needs_background": "light"
     },
     "output_type": "display_data"
    }
   ],
   "source": [
    "plt.plot(t_tfidf_bocn, 'r')\n",
    "plt.plot(v_tfidf_bocn, 'b')"
   ]
  },
  {
   "cell_type": "markdown",
   "metadata": {},
   "source": [
    "The final val loss is about 0.5, which is acceptable.\n",
    "The curve of val loss is descending without a trend of ascending. This means the model is neither overfitting nor underfitting."
   ]
  },
  {
   "cell_type": "code",
   "execution_count": 54,
   "metadata": {},
   "outputs": [
    {
     "name": "stdout",
     "output_type": "stream",
     "text": [
      "Accuracy: 0.8345864661654135\n",
      "Precision: 0.8181818181818182\n",
      "Recall: 0.8592964824120602\n",
      "F1-Score: 0.838235294117647\n"
     ]
    }
   ],
   "source": [
    "preds_te_tfidf_bocn = predict_class(test_tfidf_bocn, w_tfidf_bocn)\n",
    "print('Accuracy:', accuracy_score(test_label,preds_te_tfidf_bocn))\n",
    "print('Precision:', precision_score(test_label,preds_te_tfidf_bocn))\n",
    "print('Recall:', recall_score(test_label,preds_te_tfidf_bocn))\n",
    "print('F1-Score:', f1_score(test_label,preds_te_tfidf_bocn))"
   ]
  },
  {
   "cell_type": "code",
   "execution_count": 55,
   "metadata": {},
   "outputs": [
    {
     "name": "stdout",
     "output_type": "stream",
     "text": [
      "bad\n",
      "bor\n",
      "ipt\n",
      "ulo\n",
      "wfu\n",
      "ors\n",
      "awf\n",
      "mpt\n",
      "wf\n",
      "upi\n"
     ]
    }
   ],
   "source": [
    "top_neg = w_tfidf_bocn.argsort()[:10]\n",
    "for i in top_neg:\n",
    "    print(id_to_vocab_bocn[i])"
   ]
  },
  {
   "cell_type": "code",
   "execution_count": 56,
   "metadata": {},
   "outputs": [
    {
     "name": "stdout",
     "output_type": "stream",
     "text": [
      "rfe\n",
      "ila\n",
      "erf\n",
      "gre\n",
      "rf\n",
      "rue\n",
      "rld\n",
      "osc\n",
      "rfu\n",
      "fic\n"
     ]
    }
   ],
   "source": [
    "top_pos = w_tfidf_bocn.argsort()[::-1][:10]\n",
    "for i in top_pos:\n",
    "    print(id_to_vocab_bocn[i])"
   ]
  },
  {
   "cell_type": "markdown",
   "metadata": {},
   "source": [
    "Here we get 'bad', 'awf', 'wuf', 'wf' for 'bad' and 'awful' in negative reviews. Similarly, we get 'rfe', 'erf', and 'rf' for 'perfect' in positive reviews. Thus, this model is also reasonable."
   ]
  },
  {
   "cell_type": "markdown",
   "metadata": {},
   "source": [
    "### BOW+BOCN"
   ]
  },
  {
   "cell_type": "code",
   "execution_count": 57,
   "metadata": {},
   "outputs": [],
   "source": [
    "train_bow_bocn_tfidf = np.concatenate((train_tfidf,train_tfidf_bocn), axis=1)\n",
    "development_bow_bocn_tfidf = np.concatenate((development_tfidf,development_tfidf_bocn), axis=1)\n",
    "test_bow_bocn_tfidf = np.concatenate((test_tfidf,test_tfidf_bocn), axis=1)"
   ]
  },
  {
   "cell_type": "code",
   "execution_count": 58,
   "metadata": {},
   "outputs": [
    {
     "name": "stdout",
     "output_type": "stream",
     "text": [
      "max accuracy: 0.8571428571428571\n",
      "lr:  0.001\n",
      "alpha:  1e-06\n",
      "epochs:  30\n",
      "+--------------+--------------------+--------------------+--------------------+--------------------+\n",
      "|  lr = 1e-06  |   alpha = 1e-06    |   alpha = 1e-05    |   alpha = 0.0001   |   alpha = 0.001    |\n",
      "+--------------+--------------------+--------------------+--------------------+--------------------+\n",
      "| epochs = 30  | 0.6165413533834586 | 0.6165413533834586 | 0.6165413533834586 | 0.6165413533834586 |\n",
      "| epochs = 75  | 0.6466165413533834 | 0.6466165413533834 | 0.6466165413533834 | 0.6466165413533834 |\n",
      "| epochs = 120 | 0.6917293233082706 | 0.6917293233082706 | 0.6917293233082706 | 0.6917293233082706 |\n",
      "| epochs = 165 | 0.7192982456140351 | 0.7192982456140351 | 0.7192982456140351 | 0.7192982456140351 |\n",
      "+--------------+--------------------+--------------------+--------------------+--------------------+\n",
      "+--------------+--------------------+--------------------+--------------------+--------------------+\n",
      "|  lr = 1e-05  |   alpha = 1e-06    |   alpha = 1e-05    |   alpha = 0.0001   |   alpha = 0.001    |\n",
      "+--------------+--------------------+--------------------+--------------------+--------------------+\n",
      "| epochs = 30  | 0.7543859649122807 | 0.7543859649122807 | 0.7543859649122807 | 0.7543859649122807 |\n",
      "| epochs = 75  | 0.7944862155388471 | 0.7944862155388471 | 0.7944862155388471 | 0.7944862155388471 |\n",
      "| epochs = 120 | 0.8020050125313283 | 0.8020050125313283 | 0.8020050125313283 | 0.8020050125313283 |\n",
      "| epochs = 165 | 0.8120300751879699 | 0.8120300751879699 | 0.8120300751879699 | 0.8120300751879699 |\n",
      "+--------------+--------------------+--------------------+--------------------+--------------------+\n",
      "+--------------+--------------------+--------------------+--------------------+--------------------+\n",
      "| lr = 0.0001  |   alpha = 1e-06    |   alpha = 1e-05    |   alpha = 0.0001   |   alpha = 0.001    |\n",
      "+--------------+--------------------+--------------------+--------------------+--------------------+\n",
      "| epochs = 30  | 0.8370927318295739 | 0.8370927318295739 | 0.8370927318295739 | 0.8370927318295739 |\n",
      "| epochs = 75  | 0.8421052631578947 | 0.8421052631578947 | 0.8421052631578947 | 0.8421052631578947 |\n",
      "| epochs = 120 | 0.849624060150376  | 0.849624060150376  | 0.849624060150376  | 0.849624060150376  |\n",
      "| epochs = 165 | 0.849624060150376  | 0.849624060150376  | 0.849624060150376  | 0.849624060150376  |\n",
      "+--------------+--------------------+--------------------+--------------------+--------------------+\n",
      "+--------------+--------------------+--------------------+--------------------+--------------------+\n",
      "|  lr = 0.001  |   alpha = 1e-06    |   alpha = 1e-05    |   alpha = 0.0001   |   alpha = 0.001    |\n",
      "+--------------+--------------------+--------------------+--------------------+--------------------+\n",
      "| epochs = 30  | 0.8571428571428571 | 0.8571428571428571 | 0.8571428571428571 | 0.8571428571428571 |\n",
      "| epochs = 75  | 0.8471177944862155 | 0.8471177944862155 | 0.8471177944862155 | 0.8471177944862155 |\n",
      "| epochs = 120 | 0.8421052631578947 | 0.8421052631578947 | 0.8421052631578947 | 0.8421052631578947 |\n",
      "| epochs = 165 | 0.8345864661654135 | 0.8345864661654135 | 0.8345864661654135 | 0.8345864661654135 |\n",
      "+--------------+--------------------+--------------------+--------------------+--------------------+\n"
     ]
    }
   ],
   "source": [
    "if tune_params == 'Y':\n",
    "    acc_history = []\n",
    "    table_lr0 = PrettyTable([\"lr = {}\".format(lr[0]), \"alpha = {}\".format(alpha[0]), \"alpha = {}\".format(alpha[1])\n",
    "                , \"alpha = {}\".format(alpha[2]), \"alpha = {}\".format(alpha[3])])\n",
    "    table_lr1 = PrettyTable([\"lr = {}\".format(lr[1]), \"alpha = {}\".format(alpha[0]), \"alpha = {}\".format(alpha[1])\n",
    "                , \"alpha = {}\".format(alpha[2]), \"alpha = {}\".format(alpha[3])])\n",
    "    table_lr2 = PrettyTable([\"lr = {}\".format(lr[2]), \"alpha = {}\".format(alpha[0]), \"alpha = {}\".format(alpha[1])\n",
    "                , \"alpha = {}\".format(alpha[2]), \"alpha = {}\".format(alpha[3])])\n",
    "    table_lr3 = PrettyTable([\"lr = {}\".format(lr[3]), \"alpha = {}\".format(alpha[0]), \"alpha = {}\".format(alpha[1])\n",
    "                , \"alpha = {}\".format(alpha[2]), \"alpha = {}\".format(alpha[3])])\n",
    "    for i in range(len(lr)):\n",
    "        for j in range(len(alpha)):\n",
    "            for k in range(len(epochs)):\n",
    "                w_bow_bocn_tfidf, t_bow_bocn_tfidf, v_bow_bocn_tfidf = SGD(X_tr=train_bow_bocn_tfidf, Y_tr=train_label, X_dev=development_bow_bocn_tfidf, Y_dev=development_label, lr=lr[i], alpha=alpha[j], epochs=epochs[k])\n",
    "                preds_te_bow_bocn_tfidf = predict_class(test_bow_bocn_tfidf, w_bow_bocn_tfidf)\n",
    "                if v_bow_bocn_tfidf[len(v_bow_bocn_tfidf)-1] < 1:\n",
    "                    acc_history.append(accuracy_score(test_label,preds_te_bow_bocn_tfidf))\n",
    "                else:\n",
    "                    acc_history.append(0)\n",
    "        if i == 0:\n",
    "            table_lr0.add_row([\"epochs = {}\".format(epochs[0]), acc_history[i*16+0], acc_history[i*16+4], acc_history[i*16+8], acc_history[i*16+12]])\n",
    "            table_lr0.add_row([\"epochs = {}\".format(epochs[1]), acc_history[i*16+1], acc_history[i*16+5], acc_history[i*16+9], acc_history[i*16+13]])\n",
    "            table_lr0.add_row([\"epochs = {}\".format(epochs[2]), acc_history[i*16+2], acc_history[i*16+6], acc_history[i*16+10], acc_history[i*16+14]])\n",
    "            table_lr0.add_row([\"epochs = {}\".format(epochs[3]), acc_history[i*16+3], acc_history[i*16+7], acc_history[i*16+11], acc_history[i*16+15]])\n",
    "        if i == 1:\n",
    "            table_lr1.add_row([\"epochs = {}\".format(epochs[0]), acc_history[i*16+0], acc_history[i*16+4], acc_history[i*16+8], acc_history[i*16+12]])\n",
    "            table_lr1.add_row([\"epochs = {}\".format(epochs[1]), acc_history[i*16+1], acc_history[i*16+5], acc_history[i*16+9], acc_history[i*16+13]])\n",
    "            table_lr1.add_row([\"epochs = {}\".format(epochs[2]), acc_history[i*16+2], acc_history[i*16+6], acc_history[i*16+10], acc_history[i*16+14]])\n",
    "            table_lr1.add_row([\"epochs = {}\".format(epochs[3]), acc_history[i*16+3], acc_history[i*16+7], acc_history[i*16+11], acc_history[i*16+15]])\n",
    "        if i == 2:\n",
    "            table_lr2.add_row([\"epochs = {}\".format(epochs[0]), acc_history[i*16+0], acc_history[i*16+4], acc_history[i*16+8], acc_history[i*16+12]])\n",
    "            table_lr2.add_row([\"epochs = {}\".format(epochs[1]), acc_history[i*16+1], acc_history[i*16+5], acc_history[i*16+9], acc_history[i*16+13]])\n",
    "            table_lr2.add_row([\"epochs = {}\".format(epochs[2]), acc_history[i*16+2], acc_history[i*16+6], acc_history[i*16+10], acc_history[i*16+14]])\n",
    "            table_lr2.add_row([\"epochs = {}\".format(epochs[3]), acc_history[i*16+3], acc_history[i*16+7], acc_history[i*16+11], acc_history[i*16+15]])\n",
    "        if i == 3:\n",
    "            table_lr3.add_row([\"epochs = {}\".format(epochs[0]), acc_history[i*16+0], acc_history[i*16+4], acc_history[i*16+8], acc_history[i*16+12]])\n",
    "            table_lr3.add_row([\"epochs = {}\".format(epochs[1]), acc_history[i*16+1], acc_history[i*16+5], acc_history[i*16+9], acc_history[i*16+13]])\n",
    "            table_lr3.add_row([\"epochs = {}\".format(epochs[2]), acc_history[i*16+2], acc_history[i*16+6], acc_history[i*16+10], acc_history[i*16+14]])\n",
    "            table_lr3.add_row([\"epochs = {}\".format(epochs[3]), acc_history[i*16+3], acc_history[i*16+7], acc_history[i*16+11], acc_history[i*16+15]])\n",
    "    result = max(acc_history)\n",
    "    print('max accuracy:', result)\n",
    "    index_of_result = acc_history.index(result)\n",
    "    lr_index = (index_of_result)//16\n",
    "    alpha_index = (index_of_result%16)//4\n",
    "    epochs_index = (index_of_result%4)\n",
    "    print('lr: ', lr[lr_index])\n",
    "    print('alpha: ', alpha[alpha_index])\n",
    "    print('epochs: ', epochs[epochs_index])\n",
    "    print(table_lr0)\n",
    "    print(table_lr1)\n",
    "    print(table_lr2)\n",
    "    print(table_lr3)"
   ]
  },
  {
   "cell_type": "code",
   "execution_count": 59,
   "metadata": {},
   "outputs": [
    {
     "name": "stdout",
     "output_type": "stream",
     "text": [
      "train loss:  [0.5326226599730167, 0.4608078445091674, 0.4171088783073348, 0.38533661616981485, 0.3612415661834907, 0.34203780290868385, 0.3261362514754283, 0.3125426275771912, 0.30092211849012984, 0.29043550946735486, 0.281296956930362, 0.2728883377198892, 0.2653410593908214, 0.258502002935498, 0.25214064668513586, 0.24680485572422978, 0.2408931465385257, 0.23602232448544883, 0.23117783271573916, 0.22651852156520985, 0.22259348905669524, 0.2193859255885909, 0.2149572798015082, 0.21098378943928875, 0.20755885359677753, 0.20434022663679863, 0.20126684908663325, 0.198481190758188, 0.19540744074028224, 0.1931055893962769]\n",
      "------------------------------------------------\n",
      "val loss:  [0.5802836441951238, 0.5364640899039577, 0.5133538564140353, 0.4975822807445059, 0.48759905759390165, 0.4804719340733244, 0.47529928541722805, 0.4710506616489357, 0.46816921363955033, 0.4673238564444099, 0.4660015386253393, 0.4644367226877555, 0.46354491325260716, 0.46301853090826534, 0.463049482937284, 0.4648087464532036, 0.4639172046919725, 0.4636600988866982, 0.4658726365463701, 0.46579918730765457, 0.4676984482008383, 0.4702113085165863, 0.47007049044599875, 0.47022673722423824, 0.4711932045635471, 0.47232553415385947, 0.4737444072439565, 0.4763071403940996, 0.4768602909254012, 0.4774864400802157]\n"
     ]
    }
   ],
   "source": [
    "if tune_params == 'Y':\n",
    "    w_bow_bocn_tfidf, t_bow_bocn_tfidf, v_bow_bocn_tfidf = SGD(train_bow_bocn_tfidf, train_label, X_dev=development_bow_bocn_tfidf,\n",
    "                                                               Y_dev=development_label, lr=lr[lr_index], alpha=alpha[alpha_index],\n",
    "                                                               epochs=epochs[epochs_index], print_progress=True)\n",
    "else:\n",
    "    w_bow_bocn_tfidf, t_bow_bocn_tfidf, v_bow_bocn_tfidf = SGD(train_bow_bocn_tfidf, train_label, X_dev=development_bow_bocn_tfidf,\n",
    "                                                               Y_dev=development_label, print_progress=True)"
   ]
  },
  {
   "cell_type": "code",
   "execution_count": 60,
   "metadata": {},
   "outputs": [
    {
     "data": {
      "text/plain": [
       "[<matplotlib.lines.Line2D at 0x152033f1490>]"
      ]
     },
     "execution_count": 60,
     "metadata": {},
     "output_type": "execute_result"
    },
    {
     "data": {
      "image/png": "[encoded data removed]",
      "text/plain": [
       "<Figure size 432x288 with 1 Axes>"
      ]
     },
     "metadata": {
      "needs_background": "light"
     },
     "output_type": "display_data"
    }
   ],
   "source": [
    "plt.plot(t_bow_bocn_tfidf, 'r')\n",
    "plt.plot(v_bow_bocn_tfidf, 'b')"
   ]
  },
  {
   "cell_type": "markdown",
   "metadata": {},
   "source": [
    "The final val loss is about 0.5, which is acceptable.\n",
    "The curve of val loss is descending without a trend of ascending. This means the model is neither overfitting nor underfitting."
   ]
  },
  {
   "cell_type": "code",
   "execution_count": 61,
   "metadata": {},
   "outputs": [
    {
     "name": "stdout",
     "output_type": "stream",
     "text": [
      "Accuracy: 0.8571428571428571\n",
      "Precision: 0.855\n",
      "Recall: 0.8592964824120602\n",
      "F1-Score: 0.8571428571428571\n"
     ]
    }
   ],
   "source": [
    "preds_te_bow_bocn_tfidf = predict_class(test_bow_bocn_tfidf, w_bow_bocn_tfidf)\n",
    "print('Accuracy:', accuracy_score(test_label,preds_te_bow_bocn_tfidf))\n",
    "print('Precision:', precision_score(test_label,preds_te_bow_bocn_tfidf))\n",
    "print('Recall:', recall_score(test_label,preds_te_bow_bocn_tfidf))\n",
    "print('F1-Score:', f1_score(test_label,preds_te_bow_bocn_tfidf))"
   ]
  },
  {
   "cell_type": "code",
   "execution_count": 62,
   "metadata": {},
   "outputs": [],
   "source": [
    "id_to_vocab_bow_bocn = {**id_to_vocab_bocn, **id_to_vocab}"
   ]
  },
  {
   "cell_type": "code",
   "execution_count": 63,
   "metadata": {},
   "outputs": [
    {
     "name": "stdout",
     "output_type": "stream",
     "text": [
      "bad\n",
      "cam\n",
      "waste\n",
      "worst\n",
      "boring\n",
      "supposed\n",
      "fails\n",
      "flat\n",
      "worse\n",
      "ridiculous\n"
     ]
    }
   ],
   "source": [
    "top_neg = w_bow_bocn_tfidf.argsort()[:10]\n",
    "for i in top_neg:\n",
    "    print(id_to_vocab_bow_bocn[i])"
   ]
  },
  {
   "cell_type": "code",
   "execution_count": 64,
   "metadata": {},
   "outputs": [
    {
     "name": "stdout",
     "output_type": "stream",
     "text": [
      "hilarious\n",
      "great\n",
      "excellent\n",
      "simple\n",
      "terrific\n",
      "perfect\n",
      "fiction\n",
      "nfe\n",
      "memorable\n",
      "perfectly\n"
     ]
    }
   ],
   "source": [
    "top_pos = w_bow_bocn_tfidf.argsort()[::-1][:10]\n",
    "for i in top_pos:\n",
    "    print(id_to_vocab_bow_bocn[i])"
   ]
  },
  {
   "cell_type": "markdown",
   "metadata": {},
   "source": [
    "Here we get 'fails', 'worse', etc. for negative reviews and 'great', 'terrific', etc. for positive reviews. Thus, this model performs well."
   ]
  },
  {
   "cell_type": "markdown",
   "metadata": {},
   "source": [
    "\n",
    "\n",
    "## Full Results\n",
    "\n",
    "Add here your results:\n",
    "\n",
    "| LR | Precision  | Recall  | F1-Score  |\n",
    "|:-:|:-:|:-:|:-:|\n",
    "| BOW-count  |0.8177339901477833|0.8341708542713567|0.8258706467661691|\n",
    "| BOW-tfidf  |0.8333333333333334|0.8542713567839196|0.8436724565756824|\n",
    "| BOCN-count  |0.7821782178217822|0.7939698492462312|0.7880299251870324|\n",
    "| BOCN-tfidf  |0.8181818181818182|0.8592964824120602|0.838235294117647|\n",
    "| BOW+BOCN  |0.855|0.8592964824120602|0.8571428571428571|\n",
    "\n",
    "Please discuss why your best performing model is better than the rest."
   ]
  },
  {
   "cell_type": "markdown",
   "metadata": {},
   "source": [
    "ANS:\n",
    "My best performing model is BOW+BOCN. This is because this model has more features than the other four models. Also, this model does not include many noises as features. Thus, this model performs best."
   ]
  }
 ],
 "metadata": {
  "kernelspec": {
   "display_name": "Python 3",
   "language": "python",
   "name": "python3"
  },
  "language_info": {
   "codemirror_mode": {
    "name": "ipython",
    "version": 3
   },
   "file_extension": ".py",
   "mimetype": "text/x-python",
   "name": "python",
   "nbconvert_exporter": "python",
   "pygments_lexer": "ipython3",
   "version": "3.8.8"
  }
 },
 "nbformat": 4,
 "nbformat_minor": 2
}
